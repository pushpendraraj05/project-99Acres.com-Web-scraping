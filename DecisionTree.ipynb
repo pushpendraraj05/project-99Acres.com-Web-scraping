{
 "cells": [
  {
   "cell_type": "markdown",
   "id": "da852834",
   "metadata": {},
   "source": [
    "##### Importing libraries"
   ]
  },
  {
   "cell_type": "code",
   "execution_count": 1,
   "id": "e7fa02c0",
   "metadata": {},
   "outputs": [],
   "source": [
    "import pandas as pd\n",
    "import numpy as np\n",
    "\n",
    "import matplotlib.pyplot as plt\n",
    "import seaborn as sns\n",
    "\n",
    "from sklearn import tree, metrics, preprocessing    \n",
    "from sklearn.tree import  DecisionTreeClassifier, DecisionTreeRegressor\n",
    "from sklearn.metrics import confusion_matrix, classification_report, roc_curve, auc\n",
    "from sklearn.model_selection import train_test_split \n",
    "from sklearn.preprocessing import LabelEncoder\n",
    "\n",
    "import warnings\n",
    "warnings.filterwarnings('ignore')"
   ]
  },
  {
   "cell_type": "markdown",
   "id": "55f8b1b2",
   "metadata": {},
   "source": [
    "##### Reading the dataset"
   ]
  },
  {
   "cell_type": "code",
   "execution_count": 2,
   "id": "35823c62",
   "metadata": {},
   "outputs": [
    {
     "data": {
      "text/html": [
       "<div>\n",
       "<style scoped>\n",
       "    .dataframe tbody tr th:only-of-type {\n",
       "        vertical-align: middle;\n",
       "    }\n",
       "\n",
       "    .dataframe tbody tr th {\n",
       "        vertical-align: top;\n",
       "    }\n",
       "\n",
       "    .dataframe thead th {\n",
       "        text-align: right;\n",
       "    }\n",
       "</style>\n",
       "<table border=\"1\" class=\"dataframe\">\n",
       "  <thead>\n",
       "    <tr style=\"text-align: right;\">\n",
       "      <th></th>\n",
       "      <th>Unnamed: 0</th>\n",
       "      <th>BHK</th>\n",
       "      <th>Baths</th>\n",
       "      <th>Total_Area_SqFt</th>\n",
       "      <th>BuiltUp_Area_Sqm</th>\n",
       "      <th>Price_per_SqFt</th>\n",
       "      <th>Type_of_Land</th>\n",
       "      <th>Location</th>\n",
       "      <th>Price</th>\n",
       "    </tr>\n",
       "  </thead>\n",
       "  <tbody>\n",
       "    <tr>\n",
       "      <th>0</th>\n",
       "      <td>0</td>\n",
       "      <td>2</td>\n",
       "      <td>2</td>\n",
       "      <td>959</td>\n",
       "      <td>89</td>\n",
       "      <td>4171</td>\n",
       "      <td>Apartment</td>\n",
       "      <td>Maruthi Nagar</td>\n",
       "      <td>4200000</td>\n",
       "    </tr>\n",
       "    <tr>\n",
       "      <th>1</th>\n",
       "      <td>1</td>\n",
       "      <td>11</td>\n",
       "      <td>11</td>\n",
       "      <td>1200</td>\n",
       "      <td>111</td>\n",
       "      <td>15000</td>\n",
       "      <td>Bedroom House</td>\n",
       "      <td>8th Phase JP Nagar</td>\n",
       "      <td>18000000</td>\n",
       "    </tr>\n",
       "    <tr>\n",
       "      <th>2</th>\n",
       "      <td>2</td>\n",
       "      <td>3</td>\n",
       "      <td>3</td>\n",
       "      <td>2189</td>\n",
       "      <td>203</td>\n",
       "      <td>10507</td>\n",
       "      <td>Apartment</td>\n",
       "      <td>CV Raman Nagar</td>\n",
       "      <td>23000000</td>\n",
       "    </tr>\n",
       "    <tr>\n",
       "      <th>3</th>\n",
       "      <td>3</td>\n",
       "      <td>2</td>\n",
       "      <td>2</td>\n",
       "      <td>1165</td>\n",
       "      <td>108</td>\n",
       "      <td>5579</td>\n",
       "      <td>Apartment</td>\n",
       "      <td>CV Raman Nagar</td>\n",
       "      <td>6500000</td>\n",
       "    </tr>\n",
       "    <tr>\n",
       "      <th>4</th>\n",
       "      <td>4</td>\n",
       "      <td>11</td>\n",
       "      <td>11</td>\n",
       "      <td>1973</td>\n",
       "      <td>183</td>\n",
       "      <td>8750</td>\n",
       "      <td>Bedroom House</td>\n",
       "      <td>Chikkalasandra</td>\n",
       "      <td>35000000</td>\n",
       "    </tr>\n",
       "    <tr>\n",
       "      <th>...</th>\n",
       "      <td>...</td>\n",
       "      <td>...</td>\n",
       "      <td>...</td>\n",
       "      <td>...</td>\n",
       "      <td>...</td>\n",
       "      <td>...</td>\n",
       "      <td>...</td>\n",
       "      <td>...</td>\n",
       "      <td>...</td>\n",
       "    </tr>\n",
       "    <tr>\n",
       "      <th>2518</th>\n",
       "      <td>2745</td>\n",
       "      <td>2</td>\n",
       "      <td>2</td>\n",
       "      <td>945</td>\n",
       "      <td>88</td>\n",
       "      <td>7089</td>\n",
       "      <td>Apartment</td>\n",
       "      <td>KR Puram</td>\n",
       "      <td>6700000</td>\n",
       "    </tr>\n",
       "    <tr>\n",
       "      <th>2519</th>\n",
       "      <td>2746</td>\n",
       "      <td>2</td>\n",
       "      <td>2</td>\n",
       "      <td>810</td>\n",
       "      <td>75</td>\n",
       "      <td>6790</td>\n",
       "      <td>Apartment</td>\n",
       "      <td>Marathahalli</td>\n",
       "      <td>5500000</td>\n",
       "    </tr>\n",
       "    <tr>\n",
       "      <th>2520</th>\n",
       "      <td>2747</td>\n",
       "      <td>2</td>\n",
       "      <td>2</td>\n",
       "      <td>1405</td>\n",
       "      <td>131</td>\n",
       "      <td>7117</td>\n",
       "      <td>Apartment</td>\n",
       "      <td>Bommanahalli</td>\n",
       "      <td>10000000</td>\n",
       "    </tr>\n",
       "    <tr>\n",
       "      <th>2521</th>\n",
       "      <td>2748</td>\n",
       "      <td>0</td>\n",
       "      <td>0</td>\n",
       "      <td>1200</td>\n",
       "      <td>111</td>\n",
       "      <td>3500</td>\n",
       "      <td>Residential land / Plot</td>\n",
       "      <td>Chikkabanavar</td>\n",
       "      <td>4200000</td>\n",
       "    </tr>\n",
       "    <tr>\n",
       "      <th>2522</th>\n",
       "      <td>2749</td>\n",
       "      <td>5</td>\n",
       "      <td>5</td>\n",
       "      <td>1200</td>\n",
       "      <td>111</td>\n",
       "      <td>10000</td>\n",
       "      <td>Bedroom House</td>\n",
       "      <td>Nelamangala</td>\n",
       "      <td>12000000</td>\n",
       "    </tr>\n",
       "  </tbody>\n",
       "</table>\n",
       "<p>2523 rows × 9 columns</p>\n",
       "</div>"
      ],
      "text/plain": [
       "      Unnamed: 0  BHK  Baths  Total_Area_SqFt  BuiltUp_Area_Sqm  \\\n",
       "0              0    2      2              959                89   \n",
       "1              1   11     11             1200               111   \n",
       "2              2    3      3             2189               203   \n",
       "3              3    2      2             1165               108   \n",
       "4              4   11     11             1973               183   \n",
       "...          ...  ...    ...              ...               ...   \n",
       "2518        2745    2      2              945                88   \n",
       "2519        2746    2      2              810                75   \n",
       "2520        2747    2      2             1405               131   \n",
       "2521        2748    0      0             1200               111   \n",
       "2522        2749    5      5             1200               111   \n",
       "\n",
       "      Price_per_SqFt             Type_of_Land            Location     Price  \n",
       "0               4171                Apartment       Maruthi Nagar   4200000  \n",
       "1              15000            Bedroom House  8th Phase JP Nagar  18000000  \n",
       "2              10507                Apartment      CV Raman Nagar  23000000  \n",
       "3               5579                Apartment      CV Raman Nagar   6500000  \n",
       "4               8750            Bedroom House      Chikkalasandra  35000000  \n",
       "...              ...                      ...                 ...       ...  \n",
       "2518            7089                Apartment            KR Puram   6700000  \n",
       "2519            6790                Apartment        Marathahalli   5500000  \n",
       "2520            7117                Apartment        Bommanahalli  10000000  \n",
       "2521            3500  Residential land / Plot       Chikkabanavar   4200000  \n",
       "2522           10000            Bedroom House         Nelamangala  12000000  \n",
       "\n",
       "[2523 rows x 9 columns]"
      ]
     },
     "execution_count": 2,
     "metadata": {},
     "output_type": "execute_result"
    }
   ],
   "source": [
    "company = pd.read_csv('Buy_Data.csv')\n",
    "company"
   ]
  },
  {
   "cell_type": "code",
   "execution_count": 3,
   "id": "74a6144b",
   "metadata": {},
   "outputs": [
    {
     "data": {
      "text/html": [
       "<div>\n",
       "<style scoped>\n",
       "    .dataframe tbody tr th:only-of-type {\n",
       "        vertical-align: middle;\n",
       "    }\n",
       "\n",
       "    .dataframe tbody tr th {\n",
       "        vertical-align: top;\n",
       "    }\n",
       "\n",
       "    .dataframe thead th {\n",
       "        text-align: right;\n",
       "    }\n",
       "</style>\n",
       "<table border=\"1\" class=\"dataframe\">\n",
       "  <thead>\n",
       "    <tr style=\"text-align: right;\">\n",
       "      <th></th>\n",
       "      <th>BHK</th>\n",
       "      <th>Baths</th>\n",
       "      <th>Total_Area_SqFt</th>\n",
       "      <th>Price_per_SqFt</th>\n",
       "      <th>Type_of_Land</th>\n",
       "      <th>Location</th>\n",
       "      <th>Price</th>\n",
       "    </tr>\n",
       "  </thead>\n",
       "  <tbody>\n",
       "    <tr>\n",
       "      <th>0</th>\n",
       "      <td>2</td>\n",
       "      <td>2</td>\n",
       "      <td>959</td>\n",
       "      <td>4171</td>\n",
       "      <td>Apartment</td>\n",
       "      <td>Maruthi Nagar</td>\n",
       "      <td>4200000</td>\n",
       "    </tr>\n",
       "    <tr>\n",
       "      <th>1</th>\n",
       "      <td>11</td>\n",
       "      <td>11</td>\n",
       "      <td>1200</td>\n",
       "      <td>15000</td>\n",
       "      <td>Bedroom House</td>\n",
       "      <td>8th Phase JP Nagar</td>\n",
       "      <td>18000000</td>\n",
       "    </tr>\n",
       "    <tr>\n",
       "      <th>2</th>\n",
       "      <td>3</td>\n",
       "      <td>3</td>\n",
       "      <td>2189</td>\n",
       "      <td>10507</td>\n",
       "      <td>Apartment</td>\n",
       "      <td>CV Raman Nagar</td>\n",
       "      <td>23000000</td>\n",
       "    </tr>\n",
       "    <tr>\n",
       "      <th>3</th>\n",
       "      <td>2</td>\n",
       "      <td>2</td>\n",
       "      <td>1165</td>\n",
       "      <td>5579</td>\n",
       "      <td>Apartment</td>\n",
       "      <td>CV Raman Nagar</td>\n",
       "      <td>6500000</td>\n",
       "    </tr>\n",
       "    <tr>\n",
       "      <th>4</th>\n",
       "      <td>11</td>\n",
       "      <td>11</td>\n",
       "      <td>1973</td>\n",
       "      <td>8750</td>\n",
       "      <td>Bedroom House</td>\n",
       "      <td>Chikkalasandra</td>\n",
       "      <td>35000000</td>\n",
       "    </tr>\n",
       "  </tbody>\n",
       "</table>\n",
       "</div>"
      ],
      "text/plain": [
       "   BHK  Baths  Total_Area_SqFt  Price_per_SqFt   Type_of_Land  \\\n",
       "0    2      2              959            4171      Apartment   \n",
       "1   11     11             1200           15000  Bedroom House   \n",
       "2    3      3             2189           10507      Apartment   \n",
       "3    2      2             1165            5579      Apartment   \n",
       "4   11     11             1973            8750  Bedroom House   \n",
       "\n",
       "             Location     Price  \n",
       "0       Maruthi Nagar   4200000  \n",
       "1  8th Phase JP Nagar  18000000  \n",
       "2      CV Raman Nagar  23000000  \n",
       "3      CV Raman Nagar   6500000  \n",
       "4      Chikkalasandra  35000000  "
      ]
     },
     "execution_count": 3,
     "metadata": {},
     "output_type": "execute_result"
    }
   ],
   "source": [
    "company.drop(company.columns[[0,4]], axis=1, inplace=True)\n",
    "company.head()"
   ]
  },
  {
   "cell_type": "markdown",
   "id": "24a4511b",
   "metadata": {},
   "source": [
    "##### Checking the shape of the dataset"
   ]
  },
  {
   "cell_type": "code",
   "execution_count": 4,
   "id": "1bf7fc58",
   "metadata": {},
   "outputs": [
    {
     "data": {
      "text/plain": [
       "(2523, 7)"
      ]
     },
     "execution_count": 4,
     "metadata": {},
     "output_type": "execute_result"
    }
   ],
   "source": [
    "company.shape"
   ]
  },
  {
   "cell_type": "markdown",
   "id": "90c6368b",
   "metadata": {},
   "source": [
    "##### Checking for null values"
   ]
  },
  {
   "cell_type": "code",
   "execution_count": 5,
   "id": "43730ea1",
   "metadata": {},
   "outputs": [
    {
     "name": "stdout",
     "output_type": "stream",
     "text": [
      "<class 'pandas.core.frame.DataFrame'>\n",
      "RangeIndex: 2523 entries, 0 to 2522\n",
      "Data columns (total 7 columns):\n",
      " #   Column           Non-Null Count  Dtype \n",
      "---  ------           --------------  ----- \n",
      " 0   BHK              2523 non-null   int64 \n",
      " 1   Baths            2523 non-null   int64 \n",
      " 2   Total_Area_SqFt  2523 non-null   int64 \n",
      " 3   Price_per_SqFt   2523 non-null   int64 \n",
      " 4   Type_of_Land     2523 non-null   object\n",
      " 5   Location         2523 non-null   object\n",
      " 6   Price            2523 non-null   int64 \n",
      "dtypes: int64(5), object(2)\n",
      "memory usage: 138.1+ KB\n"
     ]
    }
   ],
   "source": [
    "company.info()"
   ]
  },
  {
   "cell_type": "markdown",
   "id": "6b8aec30",
   "metadata": {},
   "source": [
    "##### Checking for duplicated values"
   ]
  },
  {
   "cell_type": "code",
   "execution_count": 6,
   "id": "78a02e1d",
   "metadata": {},
   "outputs": [
    {
     "data": {
      "text/html": [
       "<div>\n",
       "<style scoped>\n",
       "    .dataframe tbody tr th:only-of-type {\n",
       "        vertical-align: middle;\n",
       "    }\n",
       "\n",
       "    .dataframe tbody tr th {\n",
       "        vertical-align: top;\n",
       "    }\n",
       "\n",
       "    .dataframe thead th {\n",
       "        text-align: right;\n",
       "    }\n",
       "</style>\n",
       "<table border=\"1\" class=\"dataframe\">\n",
       "  <thead>\n",
       "    <tr style=\"text-align: right;\">\n",
       "      <th></th>\n",
       "      <th>BHK</th>\n",
       "      <th>Baths</th>\n",
       "      <th>Total_Area_SqFt</th>\n",
       "      <th>Price_per_SqFt</th>\n",
       "      <th>Type_of_Land</th>\n",
       "      <th>Location</th>\n",
       "      <th>Price</th>\n",
       "    </tr>\n",
       "  </thead>\n",
       "  <tbody>\n",
       "  </tbody>\n",
       "</table>\n",
       "</div>"
      ],
      "text/plain": [
       "Empty DataFrame\n",
       "Columns: [BHK, Baths, Total_Area_SqFt, Price_per_SqFt, Type_of_Land, Location, Price]\n",
       "Index: []"
      ]
     },
     "execution_count": 6,
     "metadata": {},
     "output_type": "execute_result"
    }
   ],
   "source": [
    "company[company.duplicated(keep = False)]"
   ]
  },
  {
   "cell_type": "code",
   "execution_count": 7,
   "id": "b959cf0b",
   "metadata": {},
   "outputs": [
    {
     "data": {
      "text/html": [
       "<div>\n",
       "<style scoped>\n",
       "    .dataframe tbody tr th:only-of-type {\n",
       "        vertical-align: middle;\n",
       "    }\n",
       "\n",
       "    .dataframe tbody tr th {\n",
       "        vertical-align: top;\n",
       "    }\n",
       "\n",
       "    .dataframe thead th {\n",
       "        text-align: right;\n",
       "    }\n",
       "</style>\n",
       "<table border=\"1\" class=\"dataframe\">\n",
       "  <thead>\n",
       "    <tr style=\"text-align: right;\">\n",
       "      <th></th>\n",
       "      <th>BHK</th>\n",
       "      <th>Baths</th>\n",
       "      <th>Total_Area_SqFt</th>\n",
       "      <th>Price_per_SqFt</th>\n",
       "      <th>Price</th>\n",
       "    </tr>\n",
       "  </thead>\n",
       "  <tbody>\n",
       "    <tr>\n",
       "      <th>count</th>\n",
       "      <td>2523.000000</td>\n",
       "      <td>2523.000000</td>\n",
       "      <td>2.523000e+03</td>\n",
       "      <td>2.523000e+03</td>\n",
       "      <td>2.523000e+03</td>\n",
       "    </tr>\n",
       "    <tr>\n",
       "      <th>mean</th>\n",
       "      <td>2.246532</td>\n",
       "      <td>2.178755</td>\n",
       "      <td>7.834782e+03</td>\n",
       "      <td>1.208227e+04</td>\n",
       "      <td>1.146521e+07</td>\n",
       "    </tr>\n",
       "    <tr>\n",
       "      <th>std</th>\n",
       "      <td>2.117921</td>\n",
       "      <td>2.089434</td>\n",
       "      <td>1.636484e+05</td>\n",
       "      <td>1.998572e+05</td>\n",
       "      <td>1.112083e+07</td>\n",
       "    </tr>\n",
       "    <tr>\n",
       "      <th>min</th>\n",
       "      <td>0.000000</td>\n",
       "      <td>0.000000</td>\n",
       "      <td>3.000000e+00</td>\n",
       "      <td>1.000000e+00</td>\n",
       "      <td>3.500000e+04</td>\n",
       "    </tr>\n",
       "    <tr>\n",
       "      <th>25%</th>\n",
       "      <td>1.000000</td>\n",
       "      <td>1.000000</td>\n",
       "      <td>1.089500e+03</td>\n",
       "      <td>4.418000e+03</td>\n",
       "      <td>5.250000e+06</td>\n",
       "    </tr>\n",
       "    <tr>\n",
       "      <th>50%</th>\n",
       "      <td>2.000000</td>\n",
       "      <td>2.000000</td>\n",
       "      <td>1.245000e+03</td>\n",
       "      <td>5.914000e+03</td>\n",
       "      <td>7.800000e+06</td>\n",
       "    </tr>\n",
       "    <tr>\n",
       "      <th>75%</th>\n",
       "      <td>3.000000</td>\n",
       "      <td>3.000000</td>\n",
       "      <td>1.710000e+03</td>\n",
       "      <td>8.490000e+03</td>\n",
       "      <td>1.300000e+07</td>\n",
       "    </tr>\n",
       "    <tr>\n",
       "      <th>max</th>\n",
       "      <td>32.000000</td>\n",
       "      <td>32.000000</td>\n",
       "      <td>7.623000e+06</td>\n",
       "      <td>1.000000e+07</td>\n",
       "      <td>9.500000e+07</td>\n",
       "    </tr>\n",
       "  </tbody>\n",
       "</table>\n",
       "</div>"
      ],
      "text/plain": [
       "               BHK        Baths  Total_Area_SqFt  Price_per_SqFt         Price\n",
       "count  2523.000000  2523.000000     2.523000e+03    2.523000e+03  2.523000e+03\n",
       "mean      2.246532     2.178755     7.834782e+03    1.208227e+04  1.146521e+07\n",
       "std       2.117921     2.089434     1.636484e+05    1.998572e+05  1.112083e+07\n",
       "min       0.000000     0.000000     3.000000e+00    1.000000e+00  3.500000e+04\n",
       "25%       1.000000     1.000000     1.089500e+03    4.418000e+03  5.250000e+06\n",
       "50%       2.000000     2.000000     1.245000e+03    5.914000e+03  7.800000e+06\n",
       "75%       3.000000     3.000000     1.710000e+03    8.490000e+03  1.300000e+07\n",
       "max      32.000000    32.000000     7.623000e+06    1.000000e+07  9.500000e+07"
      ]
     },
     "execution_count": 7,
     "metadata": {},
     "output_type": "execute_result"
    }
   ],
   "source": [
    "company.describe()"
   ]
  },
  {
   "cell_type": "markdown",
   "id": "c2f97185",
   "metadata": {},
   "source": [
    "##### Checking the skewness and kurtosis"
   ]
  },
  {
   "cell_type": "code",
   "execution_count": 8,
   "id": "4bf32877",
   "metadata": {},
   "outputs": [
    {
     "data": {
      "text/html": [
       "<div>\n",
       "<style scoped>\n",
       "    .dataframe tbody tr th:only-of-type {\n",
       "        vertical-align: middle;\n",
       "    }\n",
       "\n",
       "    .dataframe tbody tr th {\n",
       "        vertical-align: top;\n",
       "    }\n",
       "\n",
       "    .dataframe thead th {\n",
       "        text-align: right;\n",
       "    }\n",
       "</style>\n",
       "<table border=\"1\" class=\"dataframe\">\n",
       "  <thead>\n",
       "    <tr style=\"text-align: right;\">\n",
       "      <th></th>\n",
       "      <th>BHK</th>\n",
       "      <th>Baths</th>\n",
       "      <th>Total_Area_SqFt</th>\n",
       "      <th>Price_per_SqFt</th>\n",
       "      <th>Price</th>\n",
       "    </tr>\n",
       "  </thead>\n",
       "  <tbody>\n",
       "    <tr>\n",
       "      <th>skewness</th>\n",
       "      <td>2.931515</td>\n",
       "      <td>3.023509</td>\n",
       "      <td>41.306325</td>\n",
       "      <td>49.551714</td>\n",
       "      <td>2.973197</td>\n",
       "    </tr>\n",
       "    <tr>\n",
       "      <th>kurtosis</th>\n",
       "      <td>21.883191</td>\n",
       "      <td>23.372567</td>\n",
       "      <td>1873.828588</td>\n",
       "      <td>2476.246615</td>\n",
       "      <td>11.831486</td>\n",
       "    </tr>\n",
       "  </tbody>\n",
       "</table>\n",
       "</div>"
      ],
      "text/plain": [
       "                BHK      Baths  Total_Area_SqFt  Price_per_SqFt      Price\n",
       "skewness   2.931515   3.023509        41.306325       49.551714   2.973197\n",
       "kurtosis  21.883191  23.372567      1873.828588     2476.246615  11.831486"
      ]
     },
     "execution_count": 8,
     "metadata": {},
     "output_type": "execute_result"
    }
   ],
   "source": [
    "col = company.select_dtypes(exclude = 'object').columns.tolist()\n",
    "\n",
    "data = company[col]\n",
    "pd.DataFrame(data = [data.skew(), data.kurtosis()],index = ['skewness', 'kurtosis'])"
   ]
  },
  {
   "cell_type": "markdown",
   "id": "0f4cdcb6",
   "metadata": {},
   "source": [
    "##### Encode columns into numeric"
   ]
  },
  {
   "cell_type": "code",
   "execution_count": 9,
   "id": "a26ebcde",
   "metadata": {},
   "outputs": [],
   "source": [
    "for column in company.columns:\n",
    "    le = LabelEncoder()\n",
    "    company[column] = le.fit_transform(company[column])"
   ]
  },
  {
   "cell_type": "code",
   "execution_count": 10,
   "id": "0662f9bc",
   "metadata": {},
   "outputs": [
    {
     "data": {
      "text/html": [
       "<div>\n",
       "<style scoped>\n",
       "    .dataframe tbody tr th:only-of-type {\n",
       "        vertical-align: middle;\n",
       "    }\n",
       "\n",
       "    .dataframe tbody tr th {\n",
       "        vertical-align: top;\n",
       "    }\n",
       "\n",
       "    .dataframe thead th {\n",
       "        text-align: right;\n",
       "    }\n",
       "</style>\n",
       "<table border=\"1\" class=\"dataframe\">\n",
       "  <thead>\n",
       "    <tr style=\"text-align: right;\">\n",
       "      <th></th>\n",
       "      <th>BHK</th>\n",
       "      <th>Baths</th>\n",
       "      <th>Total_Area_SqFt</th>\n",
       "      <th>Price_per_SqFt</th>\n",
       "      <th>Type_of_Land</th>\n",
       "      <th>Location</th>\n",
       "      <th>Price</th>\n",
       "    </tr>\n",
       "  </thead>\n",
       "  <tbody>\n",
       "    <tr>\n",
       "      <th>0</th>\n",
       "      <td>2</td>\n",
       "      <td>2</td>\n",
       "      <td>154</td>\n",
       "      <td>316</td>\n",
       "      <td>0</td>\n",
       "      <td>556</td>\n",
       "      <td>93</td>\n",
       "    </tr>\n",
       "    <tr>\n",
       "      <th>1</th>\n",
       "      <td>11</td>\n",
       "      <td>11</td>\n",
       "      <td>293</td>\n",
       "      <td>1448</td>\n",
       "      <td>2</td>\n",
       "      <td>22</td>\n",
       "      <td>303</td>\n",
       "    </tr>\n",
       "    <tr>\n",
       "      <th>2</th>\n",
       "      <td>3</td>\n",
       "      <td>3</td>\n",
       "      <td>622</td>\n",
       "      <td>1313</td>\n",
       "      <td>0</td>\n",
       "      <td>183</td>\n",
       "      <td>324</td>\n",
       "    </tr>\n",
       "    <tr>\n",
       "      <th>3</th>\n",
       "      <td>2</td>\n",
       "      <td>2</td>\n",
       "      <td>271</td>\n",
       "      <td>686</td>\n",
       "      <td>0</td>\n",
       "      <td>183</td>\n",
       "      <td>166</td>\n",
       "    </tr>\n",
       "    <tr>\n",
       "      <th>4</th>\n",
       "      <td>11</td>\n",
       "      <td>11</td>\n",
       "      <td>588</td>\n",
       "      <td>1192</td>\n",
       "      <td>2</td>\n",
       "      <td>213</td>\n",
       "      <td>364</td>\n",
       "    </tr>\n",
       "    <tr>\n",
       "      <th>...</th>\n",
       "      <td>...</td>\n",
       "      <td>...</td>\n",
       "      <td>...</td>\n",
       "      <td>...</td>\n",
       "      <td>...</td>\n",
       "      <td>...</td>\n",
       "      <td>...</td>\n",
       "    </tr>\n",
       "    <tr>\n",
       "      <th>2518</th>\n",
       "      <td>2</td>\n",
       "      <td>2</td>\n",
       "      <td>146</td>\n",
       "      <td>1003</td>\n",
       "      <td>0</td>\n",
       "      <td>416</td>\n",
       "      <td>172</td>\n",
       "    </tr>\n",
       "    <tr>\n",
       "      <th>2519</th>\n",
       "      <td>2</td>\n",
       "      <td>2</td>\n",
       "      <td>90</td>\n",
       "      <td>948</td>\n",
       "      <td>0</td>\n",
       "      <td>552</td>\n",
       "      <td>132</td>\n",
       "    </tr>\n",
       "    <tr>\n",
       "      <th>2520</th>\n",
       "      <td>2</td>\n",
       "      <td>2</td>\n",
       "      <td>408</td>\n",
       "      <td>1010</td>\n",
       "      <td>0</td>\n",
       "      <td>165</td>\n",
       "      <td>241</td>\n",
       "    </tr>\n",
       "    <tr>\n",
       "      <th>2521</th>\n",
       "      <td>0</td>\n",
       "      <td>0</td>\n",
       "      <td>293</td>\n",
       "      <td>213</td>\n",
       "      <td>3</td>\n",
       "      <td>207</td>\n",
       "      <td>93</td>\n",
       "    </tr>\n",
       "    <tr>\n",
       "      <th>2522</th>\n",
       "      <td>5</td>\n",
       "      <td>5</td>\n",
       "      <td>293</td>\n",
       "      <td>1280</td>\n",
       "      <td>2</td>\n",
       "      <td>613</td>\n",
       "      <td>259</td>\n",
       "    </tr>\n",
       "  </tbody>\n",
       "</table>\n",
       "<p>2523 rows × 7 columns</p>\n",
       "</div>"
      ],
      "text/plain": [
       "      BHK  Baths  Total_Area_SqFt  Price_per_SqFt  Type_of_Land  Location  \\\n",
       "0       2      2              154             316             0       556   \n",
       "1      11     11              293            1448             2        22   \n",
       "2       3      3              622            1313             0       183   \n",
       "3       2      2              271             686             0       183   \n",
       "4      11     11              588            1192             2       213   \n",
       "...   ...    ...              ...             ...           ...       ...   \n",
       "2518    2      2              146            1003             0       416   \n",
       "2519    2      2               90             948             0       552   \n",
       "2520    2      2              408            1010             0       165   \n",
       "2521    0      0              293             213             3       207   \n",
       "2522    5      5              293            1280             2       613   \n",
       "\n",
       "      Price  \n",
       "0        93  \n",
       "1       303  \n",
       "2       324  \n",
       "3       166  \n",
       "4       364  \n",
       "...     ...  \n",
       "2518    172  \n",
       "2519    132  \n",
       "2520    241  \n",
       "2521     93  \n",
       "2522    259  \n",
       "\n",
       "[2523 rows x 7 columns]"
      ]
     },
     "execution_count": 10,
     "metadata": {},
     "output_type": "execute_result"
    }
   ],
   "source": [
    "company"
   ]
  },
  {
   "cell_type": "markdown",
   "id": "7773ff67",
   "metadata": {},
   "source": [
    "##### Correlation "
   ]
  },
  {
   "cell_type": "code",
   "execution_count": 11,
   "id": "44e7ae79",
   "metadata": {},
   "outputs": [],
   "source": [
    "def plot_correlation_map(df):\n",
    "    corr = df.corr()\n",
    "    _ , ax = plt.subplots(figsize = (12, 10 ))\n",
    "    cmap = sns.diverging_palette(240, 10, as_cmap = True)\n",
    "    _ = sns.heatmap(corr, cmap = cmap, square = True, cbar_kws = {'shrink' : .9}, ax = ax, annot = True, annot_kws = {'fontsize' : 12})"
   ]
  },
  {
   "cell_type": "code",
   "execution_count": 12,
   "id": "51b8a73c",
   "metadata": {},
   "outputs": [
    {
     "data": {
      "image/png": "[encoded data removed]",
      "text/plain": [
       "<Figure size 1200x1000 with 2 Axes>"
      ]
     },
     "metadata": {},
     "output_type": "display_data"
    }
   ],
   "source": [
    "plot_correlation_map(company)"
   ]
  },
  {
   "cell_type": "code",
   "execution_count": 13,
   "id": "371a5d86",
   "metadata": {},
   "outputs": [
    {
     "data": {
      "text/plain": [
       "(2523, 7)"
      ]
     },
     "execution_count": 13,
     "metadata": {},
     "output_type": "execute_result"
    }
   ],
   "source": [
    "company.shape"
   ]
  },
  {
   "cell_type": "markdown",
   "id": "65750837",
   "metadata": {},
   "source": [
    "##### Splitting the data into dependent and indepandent variables."
   ]
  },
  {
   "cell_type": "code",
   "execution_count": 15,
   "id": "1573a175",
   "metadata": {},
   "outputs": [],
   "source": [
    "x = company.iloc[:, :6]\n",
    "y = company.iloc[:, 6]"
   ]
  },
  {
   "cell_type": "markdown",
   "id": "99f1301f",
   "metadata": {},
   "source": [
    "##### Splitting the data in test and train"
   ]
  },
  {
   "cell_type": "code",
   "execution_count": 16,
   "id": "20b3148a",
   "metadata": {},
   "outputs": [],
   "source": [
    "x_train, x_test, y_train, y_test = train_test_split(x, y, test_size = 0.2, random_state = 20)"
   ]
  },
  {
   "cell_type": "code",
   "execution_count": 17,
   "id": "761e3b5e",
   "metadata": {},
   "outputs": [
    {
     "name": "stdout",
     "output_type": "stream",
     "text": [
      "(2018, 6) (505, 6) (2018,) (505,)\n"
     ]
    }
   ],
   "source": [
    "print(x_train.shape, x_test.shape, y_train.shape, y_test.shape)"
   ]
  },
  {
   "cell_type": "code",
   "execution_count": 18,
   "id": "a778cca6",
   "metadata": {},
   "outputs": [
    {
     "data": {
      "text/plain": [
       "190    74\n",
       "180    53\n",
       "203    49\n",
       "147    49\n",
       "101    48\n",
       "       ..\n",
       "379     1\n",
       "214     1\n",
       "365     1\n",
       "389     1\n",
       "105     1\n",
       "Name: Price, Length: 368, dtype: int64"
      ]
     },
     "execution_count": 18,
     "metadata": {},
     "output_type": "execute_result"
    }
   ],
   "source": [
    "y_train.value_counts()"
   ]
  },
  {
   "cell_type": "markdown",
   "id": "fb1ec803",
   "metadata": {},
   "source": [
    "##### Building Decision Tree Classifier using entropy criteria"
   ]
  },
  {
   "cell_type": "code",
   "execution_count": 19,
   "id": "688b86c9",
   "metadata": {},
   "outputs": [
    {
     "data": {
      "text/plain": [
       "DecisionTreeClassifier(criterion='entropy', max_depth=3)"
      ]
     },
     "execution_count": 19,
     "metadata": {},
     "output_type": "execute_result"
    }
   ],
   "source": [
    "model = DecisionTreeClassifier(criterion = 'entropy', max_depth = 3)\n",
    "model.fit(x_train, y_train)"
   ]
  },
  {
   "cell_type": "markdown",
   "id": "bf25c2ff",
   "metadata": {},
   "source": [
    "##### Plot the decision tree"
   ]
  },
  {
   "cell_type": "code",
   "execution_count": 20,
   "id": "a42f5551",
   "metadata": {},
   "outputs": [
    {
     "data": {
      "image/png": "[encoded data removed]",
      "text/plain": [
       "<Figure size 1200x1200 with 1 Axes>"
      ]
     },
     "metadata": {},
     "output_type": "display_data"
    }
   ],
   "source": [
    "fig, axes = plt.subplots(nrows = 1, ncols = 1, figsize = (4, 4), dpi = 300)\n",
    "tree.plot_tree(model);"
   ]
  },
  {
   "cell_type": "markdown",
   "id": "7e3f0bb3",
   "metadata": {},
   "source": [
    "##### Checking the score of the training data"
   ]
  },
  {
   "cell_type": "code",
   "execution_count": 21,
   "id": "d147b20c",
   "metadata": {},
   "outputs": [
    {
     "data": {
      "text/plain": [
       "0.07036669970267592"
      ]
     },
     "execution_count": 21,
     "metadata": {},
     "output_type": "execute_result"
    }
   ],
   "source": [
    "model.fit(x_train, y_train)\n",
    "model.score(x_train, y_train)"
   ]
  },
  {
   "cell_type": "markdown",
   "id": "2e3de8ef",
   "metadata": {},
   "source": [
    "##### Predicting on test data"
   ]
  },
  {
   "cell_type": "code",
   "execution_count": 22,
   "id": "6c94775a",
   "metadata": {},
   "outputs": [
    {
     "data": {
      "text/plain": [
       "224    143\n",
       "180    119\n",
       "101     79\n",
       "283     77\n",
       "277     36\n",
       "350     31\n",
       "310     20\n",
       "dtype: int64"
      ]
     },
     "execution_count": 22,
     "metadata": {},
     "output_type": "execute_result"
    }
   ],
   "source": [
    "model_test = model.predict(x_test) #predicting on test data set\n",
    "pd.Series(model_test).value_counts() #getting the count of each category"
   ]
  },
  {
   "cell_type": "code",
   "execution_count": 23,
   "id": "94929c63",
   "metadata": {},
   "outputs": [
    {
     "data": {
      "text/plain": [
       "array([180, 350, 283, 224, 224, 180, 224, 180, 101, 224, 101, 101, 310,\n",
       "       224, 224, 101, 101, 180, 310, 277, 277, 180, 180, 180, 350, 180,\n",
       "       224, 180, 224, 101, 224, 283, 283, 224, 180, 277, 180, 224, 180,\n",
       "       224, 180, 180, 180, 101, 180, 283, 180, 283, 224, 310, 224, 224,\n",
       "       180, 283, 350, 180, 224, 283, 310, 277, 283, 283, 224, 101, 224,\n",
       "       224, 101, 283, 283, 180, 277, 101, 350, 277, 180, 277, 283, 101,\n",
       "       277, 101, 283, 101, 283, 180, 101, 350, 180, 101, 224, 101, 180,\n",
       "       180, 101, 224, 277, 224, 180, 101, 180, 224, 283, 283, 180, 283,\n",
       "       101, 350, 224, 277, 180, 101, 350, 224, 101, 350, 350, 283, 283,\n",
       "       224, 101, 283, 101, 180, 180, 224, 180, 283, 224, 180, 180, 283,\n",
       "       310, 224, 224, 224, 180, 310, 180, 350, 310, 101, 180, 101, 283,\n",
       "       277, 101, 310, 283, 101, 224, 224, 180, 310, 224, 224, 224, 180,\n",
       "       224, 283, 277, 180, 224, 224, 180, 180, 224, 224, 350, 180, 101,\n",
       "       283, 224, 101, 101, 283, 350, 283, 224, 224, 101, 350, 283, 283,\n",
       "       310, 224, 180, 283, 277, 350, 350, 283, 180, 283, 224, 101, 283,\n",
       "       277, 277, 277, 101, 101, 101, 350, 224, 101, 224, 180, 224, 224,\n",
       "       101, 101, 224, 224, 277, 101, 224, 101, 277, 180, 224, 101, 283,\n",
       "       180, 310, 180, 224, 180, 180, 180, 224, 180, 224, 224, 224, 350,\n",
       "       180, 224, 283, 277, 180, 224, 224, 224, 283, 224, 224, 101, 101,\n",
       "       224, 180, 101, 224, 224, 224, 101, 180, 224, 180, 283, 180, 180,\n",
       "       283, 283, 224, 101, 180, 224, 101, 224, 180, 224, 277, 180, 283,\n",
       "       180, 180, 224, 224, 101, 224, 283, 224, 101, 277, 224, 224, 180,\n",
       "       350, 180, 224, 101, 180, 224, 101, 350, 224, 180, 180, 283, 224,\n",
       "       224, 283, 283, 283, 224, 101, 180, 180, 224, 101, 180, 180, 180,\n",
       "       101, 101, 180, 224, 350, 350, 277, 283, 101, 224, 277, 224, 180,\n",
       "       101, 224, 180, 180, 224, 224, 224, 101, 101, 180, 180, 283, 224,\n",
       "       224, 224, 224, 180, 180, 350, 224, 350, 180, 224, 277, 310, 224,\n",
       "       101, 101, 224, 224, 350, 310, 180, 283, 277, 224, 180, 180, 224,\n",
       "       180, 283, 101, 224, 224, 277, 283, 283, 277, 283, 180, 283, 180,\n",
       "       101, 283, 277, 180, 350, 180, 180, 180, 283, 283, 180, 101, 224,\n",
       "       101, 224, 101, 283, 350, 180, 224, 224, 310, 224, 180, 180, 101,\n",
       "       283, 310, 180, 101, 350, 224, 350, 224, 224, 224, 224, 277, 180,\n",
       "       101, 180, 283, 180, 101, 283, 180, 283, 101, 224, 310, 224, 283,\n",
       "       101, 180, 101, 180, 224, 180, 224, 224, 180, 101, 180, 224, 180,\n",
       "       277, 283, 224, 180, 101, 224, 277, 224, 283, 224, 310, 180, 180,\n",
       "       283, 283, 283, 101, 283, 277, 224, 224, 283, 101, 224, 224, 180,\n",
       "       350, 101, 224, 180, 283, 310, 224, 224, 224, 180, 224, 310, 350,\n",
       "       283, 277, 101, 224, 277, 283, 224, 277, 283, 180, 224, 283, 310,\n",
       "       224, 224, 224, 277, 180, 283, 180, 350, 180, 283, 224], dtype=int64)"
      ]
     },
     "execution_count": 23,
     "metadata": {},
     "output_type": "execute_result"
    }
   ],
   "source": [
    "model_test"
   ]
  },
  {
   "cell_type": "code",
   "execution_count": 24,
   "id": "fdc0dbd0",
   "metadata": {},
   "outputs": [
    {
     "data": {
      "text/html": [
       "<div>\n",
       "<style scoped>\n",
       "    .dataframe tbody tr th:only-of-type {\n",
       "        vertical-align: middle;\n",
       "    }\n",
       "\n",
       "    .dataframe tbody tr th {\n",
       "        vertical-align: top;\n",
       "    }\n",
       "\n",
       "    .dataframe thead th {\n",
       "        text-align: right;\n",
       "    }\n",
       "</style>\n",
       "<table border=\"1\" class=\"dataframe\">\n",
       "  <thead>\n",
       "    <tr style=\"text-align: right;\">\n",
       "      <th></th>\n",
       "      <th>Actual</th>\n",
       "      <th>Predicted</th>\n",
       "    </tr>\n",
       "  </thead>\n",
       "  <tbody>\n",
       "    <tr>\n",
       "      <th>1145</th>\n",
       "      <td>132</td>\n",
       "      <td>180</td>\n",
       "    </tr>\n",
       "    <tr>\n",
       "      <th>1349</th>\n",
       "      <td>384</td>\n",
       "      <td>350</td>\n",
       "    </tr>\n",
       "    <tr>\n",
       "      <th>1301</th>\n",
       "      <td>332</td>\n",
       "      <td>283</td>\n",
       "    </tr>\n",
       "    <tr>\n",
       "      <th>1288</th>\n",
       "      <td>213</td>\n",
       "      <td>224</td>\n",
       "    </tr>\n",
       "    <tr>\n",
       "      <th>421</th>\n",
       "      <td>227</td>\n",
       "      <td>224</td>\n",
       "    </tr>\n",
       "    <tr>\n",
       "      <th>...</th>\n",
       "      <td>...</td>\n",
       "      <td>...</td>\n",
       "    </tr>\n",
       "    <tr>\n",
       "      <th>453</th>\n",
       "      <td>121</td>\n",
       "      <td>180</td>\n",
       "    </tr>\n",
       "    <tr>\n",
       "      <th>18</th>\n",
       "      <td>336</td>\n",
       "      <td>350</td>\n",
       "    </tr>\n",
       "    <tr>\n",
       "      <th>1908</th>\n",
       "      <td>190</td>\n",
       "      <td>180</td>\n",
       "    </tr>\n",
       "    <tr>\n",
       "      <th>695</th>\n",
       "      <td>281</td>\n",
       "      <td>283</td>\n",
       "    </tr>\n",
       "    <tr>\n",
       "      <th>55</th>\n",
       "      <td>254</td>\n",
       "      <td>224</td>\n",
       "    </tr>\n",
       "  </tbody>\n",
       "</table>\n",
       "<p>505 rows × 2 columns</p>\n",
       "</div>"
      ],
      "text/plain": [
       "      Actual  Predicted\n",
       "1145     132        180\n",
       "1349     384        350\n",
       "1301     332        283\n",
       "1288     213        224\n",
       "421      227        224\n",
       "...      ...        ...\n",
       "453      121        180\n",
       "18       336        350\n",
       "1908     190        180\n",
       "695      281        283\n",
       "55       254        224\n",
       "\n",
       "[505 rows x 2 columns]"
      ]
     },
     "execution_count": 24,
     "metadata": {},
     "output_type": "execute_result"
    }
   ],
   "source": [
    "df = pd.DataFrame({'Actual':y_test, 'Predicted':model_test})\n",
    "df"
   ]
  },
  {
   "cell_type": "markdown",
   "id": "8f0aa6af",
   "metadata": {},
   "source": [
    "##### Getting the 2 way table to understand the correct and wrong predictions"
   ]
  },
  {
   "cell_type": "code",
   "execution_count": 25,
   "id": "b3c77a43",
   "metadata": {},
   "outputs": [
    {
     "data": {
      "text/html": [
       "<div>\n",
       "<style scoped>\n",
       "    .dataframe tbody tr th:only-of-type {\n",
       "        vertical-align: middle;\n",
       "    }\n",
       "\n",
       "    .dataframe tbody tr th {\n",
       "        vertical-align: top;\n",
       "    }\n",
       "\n",
       "    .dataframe thead th {\n",
       "        text-align: right;\n",
       "    }\n",
       "</style>\n",
       "<table border=\"1\" class=\"dataframe\">\n",
       "  <thead>\n",
       "    <tr style=\"text-align: right;\">\n",
       "      <th>col_0</th>\n",
       "      <th>101</th>\n",
       "      <th>180</th>\n",
       "      <th>224</th>\n",
       "      <th>277</th>\n",
       "      <th>283</th>\n",
       "      <th>310</th>\n",
       "      <th>350</th>\n",
       "    </tr>\n",
       "    <tr>\n",
       "      <th>Price</th>\n",
       "      <th></th>\n",
       "      <th></th>\n",
       "      <th></th>\n",
       "      <th></th>\n",
       "      <th></th>\n",
       "      <th></th>\n",
       "      <th></th>\n",
       "    </tr>\n",
       "  </thead>\n",
       "  <tbody>\n",
       "    <tr>\n",
       "      <th>0</th>\n",
       "      <td>1</td>\n",
       "      <td>0</td>\n",
       "      <td>0</td>\n",
       "      <td>0</td>\n",
       "      <td>0</td>\n",
       "      <td>0</td>\n",
       "      <td>0</td>\n",
       "    </tr>\n",
       "    <tr>\n",
       "      <th>1</th>\n",
       "      <td>1</td>\n",
       "      <td>0</td>\n",
       "      <td>0</td>\n",
       "      <td>0</td>\n",
       "      <td>0</td>\n",
       "      <td>0</td>\n",
       "      <td>0</td>\n",
       "    </tr>\n",
       "    <tr>\n",
       "      <th>11</th>\n",
       "      <td>0</td>\n",
       "      <td>0</td>\n",
       "      <td>0</td>\n",
       "      <td>0</td>\n",
       "      <td>0</td>\n",
       "      <td>0</td>\n",
       "      <td>1</td>\n",
       "    </tr>\n",
       "    <tr>\n",
       "      <th>12</th>\n",
       "      <td>1</td>\n",
       "      <td>0</td>\n",
       "      <td>0</td>\n",
       "      <td>0</td>\n",
       "      <td>0</td>\n",
       "      <td>0</td>\n",
       "      <td>0</td>\n",
       "    </tr>\n",
       "    <tr>\n",
       "      <th>15</th>\n",
       "      <td>0</td>\n",
       "      <td>0</td>\n",
       "      <td>0</td>\n",
       "      <td>0</td>\n",
       "      <td>1</td>\n",
       "      <td>0</td>\n",
       "      <td>0</td>\n",
       "    </tr>\n",
       "    <tr>\n",
       "      <th>...</th>\n",
       "      <td>...</td>\n",
       "      <td>...</td>\n",
       "      <td>...</td>\n",
       "      <td>...</td>\n",
       "      <td>...</td>\n",
       "      <td>...</td>\n",
       "      <td>...</td>\n",
       "    </tr>\n",
       "    <tr>\n",
       "      <th>401</th>\n",
       "      <td>1</td>\n",
       "      <td>0</td>\n",
       "      <td>0</td>\n",
       "      <td>0</td>\n",
       "      <td>0</td>\n",
       "      <td>0</td>\n",
       "      <td>0</td>\n",
       "    </tr>\n",
       "    <tr>\n",
       "      <th>402</th>\n",
       "      <td>0</td>\n",
       "      <td>0</td>\n",
       "      <td>0</td>\n",
       "      <td>1</td>\n",
       "      <td>0</td>\n",
       "      <td>1</td>\n",
       "      <td>0</td>\n",
       "    </tr>\n",
       "    <tr>\n",
       "      <th>403</th>\n",
       "      <td>1</td>\n",
       "      <td>0</td>\n",
       "      <td>0</td>\n",
       "      <td>0</td>\n",
       "      <td>0</td>\n",
       "      <td>0</td>\n",
       "      <td>0</td>\n",
       "    </tr>\n",
       "    <tr>\n",
       "      <th>406</th>\n",
       "      <td>0</td>\n",
       "      <td>0</td>\n",
       "      <td>0</td>\n",
       "      <td>0</td>\n",
       "      <td>0</td>\n",
       "      <td>1</td>\n",
       "      <td>0</td>\n",
       "    </tr>\n",
       "    <tr>\n",
       "      <th>408</th>\n",
       "      <td>0</td>\n",
       "      <td>0</td>\n",
       "      <td>0</td>\n",
       "      <td>0</td>\n",
       "      <td>0</td>\n",
       "      <td>1</td>\n",
       "      <td>0</td>\n",
       "    </tr>\n",
       "  </tbody>\n",
       "</table>\n",
       "<p>181 rows × 7 columns</p>\n",
       "</div>"
      ],
      "text/plain": [
       "col_0  101  180  224  277  283  310  350\n",
       "Price                                   \n",
       "0        1    0    0    0    0    0    0\n",
       "1        1    0    0    0    0    0    0\n",
       "11       0    0    0    0    0    0    1\n",
       "12       1    0    0    0    0    0    0\n",
       "15       0    0    0    0    1    0    0\n",
       "...    ...  ...  ...  ...  ...  ...  ...\n",
       "401      1    0    0    0    0    0    0\n",
       "402      0    0    0    1    0    1    0\n",
       "403      1    0    0    0    0    0    0\n",
       "406      0    0    0    0    0    1    0\n",
       "408      0    0    0    0    0    1    0\n",
       "\n",
       "[181 rows x 7 columns]"
      ]
     },
     "execution_count": 25,
     "metadata": {},
     "output_type": "execute_result"
    }
   ],
   "source": [
    "pd.crosstab(y_test, model_test)"
   ]
  },
  {
   "cell_type": "markdown",
   "id": "625fe121",
   "metadata": {},
   "source": [
    "##### Accuracy "
   ]
  },
  {
   "cell_type": "code",
   "execution_count": 26,
   "id": "a44b0132",
   "metadata": {},
   "outputs": [
    {
     "data": {
      "text/plain": [
       "0.047524752475247525"
      ]
     },
     "execution_count": 26,
     "metadata": {},
     "output_type": "execute_result"
    }
   ],
   "source": [
    "np.mean(model_test == y_test)"
   ]
  },
  {
   "cell_type": "markdown",
   "id": "24e13e66",
   "metadata": {},
   "source": [
    "##### Plot Functions"
   ]
  },
  {
   "cell_type": "code",
   "execution_count": 27,
   "id": "eeefeda4",
   "metadata": {},
   "outputs": [],
   "source": [
    "def accuracy(model):\n",
    "    pred = model.predict(x_test)\n",
    "    accu = metrics.accuracy_score(y_test,pred)\n",
    "    print(\"\\nAcuuracy Of the Model: \",accu,\"\\n\\n\")"
   ]
  },
  {
   "cell_type": "markdown",
   "id": "b442388c",
   "metadata": {},
   "source": [
    "##### Visualization"
   ]
  },
  {
   "cell_type": "code",
   "execution_count": 28,
   "id": "fb40026e",
   "metadata": {},
   "outputs": [
    {
     "name": "stdout",
     "output_type": "stream",
     "text": [
      "\n",
      "Acuuracy Of the Model:  0.047524752475247525 \n",
      "\n",
      "\n"
     ]
    }
   ],
   "source": [
    "accuracy(model)"
   ]
  },
  {
   "cell_type": "markdown",
   "id": "89ef9e1d",
   "metadata": {},
   "source": [
    "##### Creating a for loop to identify the train and test accuracies of the prediction, with the change in the max_depth feature of the decision tree classifier from 1 to 11"
   ]
  },
  {
   "cell_type": "code",
   "execution_count": 29,
   "id": "34cace54",
   "metadata": {},
   "outputs": [],
   "source": [
    "train_accuracy = []\n",
    "test_accuracy = []\n",
    "for max_depth in range(1,11):\n",
    "    model = DecisionTreeClassifier(criterion = 'entropy', max_depth = max_depth, random_state = 40)\n",
    "    model.fit(x_train, y_train)\n",
    "    train_accuracy.append(model.score(x_train, y_train))\n",
    "    test_accuracy.append(model.score(x_test, y_test))"
   ]
  },
  {
   "cell_type": "markdown",
   "id": "10ffe959",
   "metadata": {},
   "source": [
    "##### Listing down the Accuracies in a Dataframe for different max depth classifiers"
   ]
  },
  {
   "cell_type": "code",
   "execution_count": 30,
   "id": "d3693218",
   "metadata": {},
   "outputs": [
    {
     "data": {
      "text/html": [
       "<div>\n",
       "<style scoped>\n",
       "    .dataframe tbody tr th:only-of-type {\n",
       "        vertical-align: middle;\n",
       "    }\n",
       "\n",
       "    .dataframe tbody tr th {\n",
       "        vertical-align: top;\n",
       "    }\n",
       "\n",
       "    .dataframe thead th {\n",
       "        text-align: right;\n",
       "    }\n",
       "</style>\n",
       "<table border=\"1\" class=\"dataframe\">\n",
       "  <thead>\n",
       "    <tr style=\"text-align: right;\">\n",
       "      <th></th>\n",
       "      <th>max_depth</th>\n",
       "      <th>train_acc</th>\n",
       "      <th>test_acc</th>\n",
       "    </tr>\n",
       "  </thead>\n",
       "  <tbody>\n",
       "    <tr>\n",
       "      <th>0</th>\n",
       "      <td>1</td>\n",
       "      <td>0.037661</td>\n",
       "      <td>0.029703</td>\n",
       "    </tr>\n",
       "    <tr>\n",
       "      <th>1</th>\n",
       "      <td>2</td>\n",
       "      <td>0.045094</td>\n",
       "      <td>0.035644</td>\n",
       "    </tr>\n",
       "    <tr>\n",
       "      <th>2</th>\n",
       "      <td>3</td>\n",
       "      <td>0.070367</td>\n",
       "      <td>0.047525</td>\n",
       "    </tr>\n",
       "    <tr>\n",
       "      <th>3</th>\n",
       "      <td>4</td>\n",
       "      <td>0.100099</td>\n",
       "      <td>0.061386</td>\n",
       "    </tr>\n",
       "    <tr>\n",
       "      <th>4</th>\n",
       "      <td>5</td>\n",
       "      <td>0.132309</td>\n",
       "      <td>0.102970</td>\n",
       "    </tr>\n",
       "    <tr>\n",
       "      <th>5</th>\n",
       "      <td>6</td>\n",
       "      <td>0.200198</td>\n",
       "      <td>0.116832</td>\n",
       "    </tr>\n",
       "    <tr>\n",
       "      <th>6</th>\n",
       "      <td>7</td>\n",
       "      <td>0.276016</td>\n",
       "      <td>0.158416</td>\n",
       "    </tr>\n",
       "    <tr>\n",
       "      <th>7</th>\n",
       "      <td>8</td>\n",
       "      <td>0.415758</td>\n",
       "      <td>0.201980</td>\n",
       "    </tr>\n",
       "    <tr>\n",
       "      <th>8</th>\n",
       "      <td>9</td>\n",
       "      <td>0.584242</td>\n",
       "      <td>0.231683</td>\n",
       "    </tr>\n",
       "    <tr>\n",
       "      <th>9</th>\n",
       "      <td>10</td>\n",
       "      <td>0.756194</td>\n",
       "      <td>0.251485</td>\n",
       "    </tr>\n",
       "  </tbody>\n",
       "</table>\n",
       "</div>"
      ],
      "text/plain": [
       "   max_depth  train_acc  test_acc\n",
       "0          1   0.037661  0.029703\n",
       "1          2   0.045094  0.035644\n",
       "2          3   0.070367  0.047525\n",
       "3          4   0.100099  0.061386\n",
       "4          5   0.132309  0.102970\n",
       "5          6   0.200198  0.116832\n",
       "6          7   0.276016  0.158416\n",
       "7          8   0.415758  0.201980\n",
       "8          9   0.584242  0.231683\n",
       "9         10   0.756194  0.251485"
      ]
     },
     "execution_count": 30,
     "metadata": {},
     "output_type": "execute_result"
    }
   ],
   "source": [
    "acc = pd.DataFrame({'max_depth':range(1,11),'train_acc':train_accuracy, 'test_acc':test_accuracy})\n",
    "acc"
   ]
  },
  {
   "cell_type": "markdown",
   "id": "5d57fc74",
   "metadata": {},
   "source": [
    "##### Visulizing accuracy graph to look over max_depth"
   ]
  },
  {
   "cell_type": "code",
   "execution_count": 31,
   "id": "5e2ce7ab",
   "metadata": {},
   "outputs": [
    {
     "data": {
      "image/png": "[encoded data removed]",
      "text/plain": [
       "<Figure size 1500x600 with 1 Axes>"
      ]
     },
     "metadata": {},
     "output_type": "display_data"
    }
   ],
   "source": [
    "labels = ['train_acc','test_acc']\n",
    "fig = plt.figure(figsize = (15,6))\n",
    "ax = fig.add_subplot()\n",
    "plt.plot(acc['max_depth'],acc['train_acc'], marker = 'o')\n",
    "plt.plot(acc['max_depth'], acc['test_acc'], marker = 'o')\n",
    "ax.set_xticks(np.arange(1,11))\n",
    "plt.legend(labels)\n",
    "plt.xlabel('max_depth of the tree')\n",
    "plt.ylabel('performance')\n",
    "plt.show()"
   ]
  },
  {
   "cell_type": "markdown",
   "id": "bbffdd28",
   "metadata": {},
   "source": [
    "##### Building DecisionTreeClassifier (CART) using Gini Criteris"
   ]
  },
  {
   "cell_type": "code",
   "execution_count": 32,
   "id": "da3584a2",
   "metadata": {},
   "outputs": [
    {
     "data": {
      "text/plain": [
       "DecisionTreeClassifier(max_depth=3)"
      ]
     },
     "execution_count": 32,
     "metadata": {},
     "output_type": "execute_result"
    }
   ],
   "source": [
    "model_gini = DecisionTreeClassifier(criterion='gini', max_depth = 3)\n",
    "model_gini.fit(x_train, y_train)"
   ]
  },
  {
   "cell_type": "markdown",
   "id": "c234e3f1",
   "metadata": {},
   "source": [
    "###### Prediction and computing the accuracy"
   ]
  },
  {
   "cell_type": "code",
   "execution_count": 33,
   "id": "7cd542b7",
   "metadata": {},
   "outputs": [
    {
     "data": {
      "text/plain": [
       "0.06930693069306931"
      ]
     },
     "execution_count": 33,
     "metadata": {},
     "output_type": "execute_result"
    }
   ],
   "source": [
    "preds = model_gini.predict(x_test)\n",
    "np.mean(preds == y_test)"
   ]
  },
  {
   "cell_type": "markdown",
   "id": "367373ac",
   "metadata": {},
   "source": [
    "##### Running the DecisionTreeClassifier on whole Data"
   ]
  },
  {
   "cell_type": "code",
   "execution_count": 34,
   "id": "f7485de8",
   "metadata": {},
   "outputs": [
    {
     "data": {
      "text/plain": [
       "DecisionTreeClassifier(criterion='entropy', max_depth=3)"
      ]
     },
     "execution_count": 34,
     "metadata": {},
     "output_type": "execute_result"
    }
   ],
   "source": [
    "model_gini = DecisionTreeClassifier(criterion = 'entropy', max_depth = 3)\n",
    "model_gini.fit(x, y)"
   ]
  },
  {
   "cell_type": "markdown",
   "id": "277b23f6",
   "metadata": {},
   "source": [
    "##### Predicition and computing the accuracy"
   ]
  },
  {
   "cell_type": "code",
   "execution_count": 35,
   "id": "284250f8",
   "metadata": {},
   "outputs": [
    {
     "data": {
      "text/plain": [
       "0.07055093143083631"
      ]
     },
     "execution_count": 35,
     "metadata": {},
     "output_type": "execute_result"
    }
   ],
   "source": [
    "preds = model_gini.predict(x)\n",
    "np.mean(preds == y)"
   ]
  },
  {
   "cell_type": "code",
   "execution_count": 36,
   "id": "ff8e1465",
   "metadata": {},
   "outputs": [
    {
     "data": {
      "text/html": [
       "<div>\n",
       "<style scoped>\n",
       "    .dataframe tbody tr th:only-of-type {\n",
       "        vertical-align: middle;\n",
       "    }\n",
       "\n",
       "    .dataframe tbody tr th {\n",
       "        vertical-align: top;\n",
       "    }\n",
       "\n",
       "    .dataframe thead th {\n",
       "        text-align: right;\n",
       "    }\n",
       "</style>\n",
       "<table border=\"1\" class=\"dataframe\">\n",
       "  <thead>\n",
       "    <tr style=\"text-align: right;\">\n",
       "      <th>col_0</th>\n",
       "      <th>101</th>\n",
       "      <th>147</th>\n",
       "      <th>166</th>\n",
       "      <th>224</th>\n",
       "      <th>283</th>\n",
       "      <th>304</th>\n",
       "      <th>350</th>\n",
       "    </tr>\n",
       "    <tr>\n",
       "      <th>Price</th>\n",
       "      <th></th>\n",
       "      <th></th>\n",
       "      <th></th>\n",
       "      <th></th>\n",
       "      <th></th>\n",
       "      <th></th>\n",
       "      <th></th>\n",
       "    </tr>\n",
       "  </thead>\n",
       "  <tbody>\n",
       "    <tr>\n",
       "      <th>0</th>\n",
       "      <td>1</td>\n",
       "      <td>0</td>\n",
       "      <td>0</td>\n",
       "      <td>0</td>\n",
       "      <td>0</td>\n",
       "      <td>0</td>\n",
       "      <td>0</td>\n",
       "    </tr>\n",
       "    <tr>\n",
       "      <th>1</th>\n",
       "      <td>2</td>\n",
       "      <td>1</td>\n",
       "      <td>0</td>\n",
       "      <td>0</td>\n",
       "      <td>0</td>\n",
       "      <td>0</td>\n",
       "      <td>0</td>\n",
       "    </tr>\n",
       "    <tr>\n",
       "      <th>2</th>\n",
       "      <td>0</td>\n",
       "      <td>1</td>\n",
       "      <td>0</td>\n",
       "      <td>0</td>\n",
       "      <td>0</td>\n",
       "      <td>0</td>\n",
       "      <td>0</td>\n",
       "    </tr>\n",
       "    <tr>\n",
       "      <th>3</th>\n",
       "      <td>1</td>\n",
       "      <td>0</td>\n",
       "      <td>0</td>\n",
       "      <td>0</td>\n",
       "      <td>0</td>\n",
       "      <td>0</td>\n",
       "      <td>0</td>\n",
       "    </tr>\n",
       "    <tr>\n",
       "      <th>4</th>\n",
       "      <td>1</td>\n",
       "      <td>0</td>\n",
       "      <td>0</td>\n",
       "      <td>0</td>\n",
       "      <td>0</td>\n",
       "      <td>0</td>\n",
       "      <td>2</td>\n",
       "    </tr>\n",
       "    <tr>\n",
       "      <th>...</th>\n",
       "      <td>...</td>\n",
       "      <td>...</td>\n",
       "      <td>...</td>\n",
       "      <td>...</td>\n",
       "      <td>...</td>\n",
       "      <td>...</td>\n",
       "      <td>...</td>\n",
       "    </tr>\n",
       "    <tr>\n",
       "      <th>404</th>\n",
       "      <td>0</td>\n",
       "      <td>0</td>\n",
       "      <td>0</td>\n",
       "      <td>0</td>\n",
       "      <td>0</td>\n",
       "      <td>1</td>\n",
       "      <td>1</td>\n",
       "    </tr>\n",
       "    <tr>\n",
       "      <th>405</th>\n",
       "      <td>0</td>\n",
       "      <td>0</td>\n",
       "      <td>0</td>\n",
       "      <td>0</td>\n",
       "      <td>0</td>\n",
       "      <td>0</td>\n",
       "      <td>1</td>\n",
       "    </tr>\n",
       "    <tr>\n",
       "      <th>406</th>\n",
       "      <td>0</td>\n",
       "      <td>0</td>\n",
       "      <td>0</td>\n",
       "      <td>1</td>\n",
       "      <td>0</td>\n",
       "      <td>0</td>\n",
       "      <td>1</td>\n",
       "    </tr>\n",
       "    <tr>\n",
       "      <th>407</th>\n",
       "      <td>0</td>\n",
       "      <td>0</td>\n",
       "      <td>0</td>\n",
       "      <td>0</td>\n",
       "      <td>0</td>\n",
       "      <td>0</td>\n",
       "      <td>1</td>\n",
       "    </tr>\n",
       "    <tr>\n",
       "      <th>408</th>\n",
       "      <td>0</td>\n",
       "      <td>0</td>\n",
       "      <td>0</td>\n",
       "      <td>1</td>\n",
       "      <td>0</td>\n",
       "      <td>0</td>\n",
       "      <td>0</td>\n",
       "    </tr>\n",
       "  </tbody>\n",
       "</table>\n",
       "<p>409 rows × 7 columns</p>\n",
       "</div>"
      ],
      "text/plain": [
       "col_0  101  147  166  224  283  304  350\n",
       "Price                                   \n",
       "0        1    0    0    0    0    0    0\n",
       "1        2    1    0    0    0    0    0\n",
       "2        0    1    0    0    0    0    0\n",
       "3        1    0    0    0    0    0    0\n",
       "4        1    0    0    0    0    0    2\n",
       "...    ...  ...  ...  ...  ...  ...  ...\n",
       "404      0    0    0    0    0    1    1\n",
       "405      0    0    0    0    0    0    1\n",
       "406      0    0    0    1    0    0    1\n",
       "407      0    0    0    0    0    0    1\n",
       "408      0    0    0    1    0    0    0\n",
       "\n",
       "[409 rows x 7 columns]"
      ]
     },
     "execution_count": 36,
     "metadata": {},
     "output_type": "execute_result"
    }
   ],
   "source": [
    "pd.crosstab(y,preds)"
   ]
  },
  {
   "cell_type": "markdown",
   "id": "ea7fe544",
   "metadata": {},
   "source": [
    "##### Decision Tree Regression"
   ]
  },
  {
   "cell_type": "code",
   "execution_count": 37,
   "id": "fef10496",
   "metadata": {},
   "outputs": [
    {
     "data": {
      "text/plain": [
       "DecisionTreeRegressor()"
      ]
     },
     "execution_count": 37,
     "metadata": {},
     "output_type": "execute_result"
    }
   ],
   "source": [
    "model_r = DecisionTreeRegressor()\n",
    "model_r.fit(x_train, y_train)"
   ]
  },
  {
   "cell_type": "code",
   "execution_count": 38,
   "id": "b2d5c32f",
   "metadata": {},
   "outputs": [
    {
     "data": {
      "text/plain": [
       "0.9999986294491593"
      ]
     },
     "execution_count": 38,
     "metadata": {},
     "output_type": "execute_result"
    }
   ],
   "source": [
    "model_r.score(x_train, y_train)"
   ]
  },
  {
   "cell_type": "markdown",
   "id": "5b084bb8",
   "metadata": {},
   "source": [
    "##### Find the accuracy"
   ]
  },
  {
   "cell_type": "code",
   "execution_count": 39,
   "id": "c3a4ec3b",
   "metadata": {},
   "outputs": [
    {
     "data": {
      "text/plain": [
       "0.8039810715175406"
      ]
     },
     "execution_count": 39,
     "metadata": {},
     "output_type": "execute_result"
    }
   ],
   "source": [
    "model_r.score(x_test, y_test)"
   ]
  },
  {
   "cell_type": "code",
   "execution_count": 40,
   "id": "d4d7e34e",
   "metadata": {},
   "outputs": [
    {
     "data": {
      "text/plain": [
       "array([0.01816374, 0.01389805, 0.39940304, 0.49943782, 0.00854231,\n",
       "       0.06055504])"
      ]
     },
     "execution_count": 40,
     "metadata": {},
     "output_type": "execute_result"
    }
   ],
   "source": [
    "model.feature_importances_"
   ]
  },
  {
   "cell_type": "code",
   "execution_count": 41,
   "id": "a33dc912",
   "metadata": {},
   "outputs": [
    {
     "data": {
      "text/html": [
       "<div>\n",
       "<style scoped>\n",
       "    .dataframe tbody tr th:only-of-type {\n",
       "        vertical-align: middle;\n",
       "    }\n",
       "\n",
       "    .dataframe tbody tr th {\n",
       "        vertical-align: top;\n",
       "    }\n",
       "\n",
       "    .dataframe thead th {\n",
       "        text-align: right;\n",
       "    }\n",
       "</style>\n",
       "<table border=\"1\" class=\"dataframe\">\n",
       "  <thead>\n",
       "    <tr style=\"text-align: right;\">\n",
       "      <th></th>\n",
       "      <th>feature</th>\n",
       "      <th>importance</th>\n",
       "    </tr>\n",
       "  </thead>\n",
       "  <tbody>\n",
       "    <tr>\n",
       "      <th>3</th>\n",
       "      <td>Price_per_SqFt</td>\n",
       "      <td>0.499438</td>\n",
       "    </tr>\n",
       "    <tr>\n",
       "      <th>2</th>\n",
       "      <td>Total_Area_SqFt</td>\n",
       "      <td>0.399403</td>\n",
       "    </tr>\n",
       "    <tr>\n",
       "      <th>5</th>\n",
       "      <td>Location</td>\n",
       "      <td>0.060555</td>\n",
       "    </tr>\n",
       "    <tr>\n",
       "      <th>0</th>\n",
       "      <td>BHK</td>\n",
       "      <td>0.018164</td>\n",
       "    </tr>\n",
       "    <tr>\n",
       "      <th>1</th>\n",
       "      <td>Baths</td>\n",
       "      <td>0.013898</td>\n",
       "    </tr>\n",
       "    <tr>\n",
       "      <th>4</th>\n",
       "      <td>Type_of_Land</td>\n",
       "      <td>0.008542</td>\n",
       "    </tr>\n",
       "  </tbody>\n",
       "</table>\n",
       "</div>"
      ],
      "text/plain": [
       "           feature  importance\n",
       "3   Price_per_SqFt    0.499438\n",
       "2  Total_Area_SqFt    0.399403\n",
       "5         Location    0.060555\n",
       "0              BHK    0.018164\n",
       "1            Baths    0.013898\n",
       "4     Type_of_Land    0.008542"
      ]
     },
     "execution_count": 41,
     "metadata": {},
     "output_type": "execute_result"
    }
   ],
   "source": [
    "feature_importances = pd.DataFrame({'feature': list(x_train.columns),\n",
    "                   'importance': model.feature_importances_}).\\\n",
    "                    sort_values('importance', ascending = False)\n",
    "feature_importances"
   ]
  }
 ],
 "metadata": {
  "kernelspec": {
   "display_name": "Python 3 (ipykernel)",
   "language": "python",
   "name": "python3"
  },
  "language_info": {
   "codemirror_mode": {
    "name": "ipython",
    "version": 3
   },
   "file_extension": ".py",
   "mimetype": "text/x-python",
   "name": "python",
   "nbconvert_exporter": "python",
   "pygments_lexer": "ipython3",
   "version": "3.9.13"
  }
 },
 "nbformat": 4,
 "nbformat_minor": 5
}
