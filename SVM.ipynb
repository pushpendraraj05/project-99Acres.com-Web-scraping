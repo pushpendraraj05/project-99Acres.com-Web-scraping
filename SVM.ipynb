{
 "cells": [
  {
   "cell_type": "markdown",
   "id": "8233621c",
   "metadata": {},
   "source": [
    "##### 1) Prepare a classification model using SVM for salary data \n",
    "\n",
    "##### Data Description:\n",
    "\n",
    "- age -- age of a person\n",
    "- workclass\t-- A work class is a grouping of work \n",
    "- education\t-- Education of an individuals\t\n",
    "- maritalstatus -- Marital status of an individulas\t\n",
    "- occupation\t -- occupation of an individuals\n",
    "- relationship -- \t\n",
    "- race --  Race of an Individual\n",
    "- sex --  Gender of an Individual\n",
    "- capitalgain --  profit received from the sale of an investment\t\n",
    "- capitalloss\t-- A decrease in the value of a capital asset\n",
    "- hoursperweek -- number of hours work per week\t\n",
    "- native -- Native of an individual\n",
    "- Salary -- salary of an individual"
   ]
  },
  {
   "cell_type": "markdown",
   "id": "f0fb565f",
   "metadata": {},
   "source": [
    "##### Importing Libraries"
   ]
  },
  {
   "cell_type": "code",
   "execution_count": 1,
   "id": "99c19519",
   "metadata": {},
   "outputs": [],
   "source": [
    "import numpy as np\n",
    "import pandas as pd\n",
    "\n",
    "import seaborn as sns\n",
    "import matplotlib.pyplot as plt\n",
    "\n",
    "from sklearn.svm import SVC\n",
    "from sklearn.metrics import accuracy_score\n",
    "from sklearn.preprocessing import LabelEncoder\n",
    "from sklearn import svm, preprocessing, metrics\n",
    "from sklearn.model_selection import GridSearchCV, train_test_split\n",
    "\n",
    "import warnings\n",
    "warnings.filterwarnings('ignore')"
   ]
  },
  {
   "cell_type": "markdown",
   "id": "268f6913",
   "metadata": {},
   "source": [
    "##### Reaading the DataFrame"
   ]
  },
  {
   "cell_type": "code",
   "execution_count": 2,
   "id": "33647fe4",
   "metadata": {},
   "outputs": [
    {
     "data": {
      "text/html": [
       "<div>\n",
       "<style scoped>\n",
       "    .dataframe tbody tr th:only-of-type {\n",
       "        vertical-align: middle;\n",
       "    }\n",
       "\n",
       "    .dataframe tbody tr th {\n",
       "        vertical-align: top;\n",
       "    }\n",
       "\n",
       "    .dataframe thead th {\n",
       "        text-align: right;\n",
       "    }\n",
       "</style>\n",
       "<table border=\"1\" class=\"dataframe\">\n",
       "  <thead>\n",
       "    <tr style=\"text-align: right;\">\n",
       "      <th></th>\n",
       "      <th>Unnamed: 0</th>\n",
       "      <th>BHK</th>\n",
       "      <th>Baths</th>\n",
       "      <th>Total_Area_SqFt</th>\n",
       "      <th>BuiltUp_Area_Sqm</th>\n",
       "      <th>Price_per_SqFt</th>\n",
       "      <th>Type_of_Land</th>\n",
       "      <th>Location</th>\n",
       "      <th>Price</th>\n",
       "    </tr>\n",
       "  </thead>\n",
       "  <tbody>\n",
       "    <tr>\n",
       "      <th>0</th>\n",
       "      <td>0</td>\n",
       "      <td>2</td>\n",
       "      <td>2</td>\n",
       "      <td>959</td>\n",
       "      <td>89</td>\n",
       "      <td>4171</td>\n",
       "      <td>Apartment</td>\n",
       "      <td>Maruthi Nagar</td>\n",
       "      <td>4200000</td>\n",
       "    </tr>\n",
       "    <tr>\n",
       "      <th>1</th>\n",
       "      <td>1</td>\n",
       "      <td>11</td>\n",
       "      <td>11</td>\n",
       "      <td>1200</td>\n",
       "      <td>111</td>\n",
       "      <td>15000</td>\n",
       "      <td>Bedroom House</td>\n",
       "      <td>8th Phase JP Nagar</td>\n",
       "      <td>18000000</td>\n",
       "    </tr>\n",
       "    <tr>\n",
       "      <th>2</th>\n",
       "      <td>2</td>\n",
       "      <td>3</td>\n",
       "      <td>3</td>\n",
       "      <td>2189</td>\n",
       "      <td>203</td>\n",
       "      <td>10507</td>\n",
       "      <td>Apartment</td>\n",
       "      <td>CV Raman Nagar</td>\n",
       "      <td>23000000</td>\n",
       "    </tr>\n",
       "    <tr>\n",
       "      <th>3</th>\n",
       "      <td>3</td>\n",
       "      <td>2</td>\n",
       "      <td>2</td>\n",
       "      <td>1165</td>\n",
       "      <td>108</td>\n",
       "      <td>5579</td>\n",
       "      <td>Apartment</td>\n",
       "      <td>CV Raman Nagar</td>\n",
       "      <td>6500000</td>\n",
       "    </tr>\n",
       "    <tr>\n",
       "      <th>4</th>\n",
       "      <td>4</td>\n",
       "      <td>11</td>\n",
       "      <td>11</td>\n",
       "      <td>1973</td>\n",
       "      <td>183</td>\n",
       "      <td>8750</td>\n",
       "      <td>Bedroom House</td>\n",
       "      <td>Chikkalasandra</td>\n",
       "      <td>35000000</td>\n",
       "    </tr>\n",
       "    <tr>\n",
       "      <th>5</th>\n",
       "      <td>5</td>\n",
       "      <td>5</td>\n",
       "      <td>5</td>\n",
       "      <td>3500</td>\n",
       "      <td>325</td>\n",
       "      <td>21428</td>\n",
       "      <td>Bedroom House</td>\n",
       "      <td>Chandra Layout</td>\n",
       "      <td>75000000</td>\n",
       "    </tr>\n",
       "    <tr>\n",
       "      <th>6</th>\n",
       "      <td>6</td>\n",
       "      <td>3</td>\n",
       "      <td>3</td>\n",
       "      <td>2300</td>\n",
       "      <td>214</td>\n",
       "      <td>13043</td>\n",
       "      <td>Apartment</td>\n",
       "      <td>Spencer Road</td>\n",
       "      <td>30000000</td>\n",
       "    </tr>\n",
       "    <tr>\n",
       "      <th>7</th>\n",
       "      <td>7</td>\n",
       "      <td>2</td>\n",
       "      <td>2</td>\n",
       "      <td>1150</td>\n",
       "      <td>107</td>\n",
       "      <td>5391</td>\n",
       "      <td>Apartment</td>\n",
       "      <td>CV Raman Nagar</td>\n",
       "      <td>6200000</td>\n",
       "    </tr>\n",
       "    <tr>\n",
       "      <th>8</th>\n",
       "      <td>8</td>\n",
       "      <td>5</td>\n",
       "      <td>5</td>\n",
       "      <td>3500</td>\n",
       "      <td>325</td>\n",
       "      <td>3429</td>\n",
       "      <td>Bedroom House</td>\n",
       "      <td>Suragajakkanahalli</td>\n",
       "      <td>14000000</td>\n",
       "    </tr>\n",
       "    <tr>\n",
       "      <th>9</th>\n",
       "      <td>9</td>\n",
       "      <td>2</td>\n",
       "      <td>2</td>\n",
       "      <td>1065</td>\n",
       "      <td>99</td>\n",
       "      <td>6568</td>\n",
       "      <td>Apartment</td>\n",
       "      <td>6th Block Jayanagar</td>\n",
       "      <td>6995000</td>\n",
       "    </tr>\n",
       "    <tr>\n",
       "      <th>10</th>\n",
       "      <td>10</td>\n",
       "      <td>3</td>\n",
       "      <td>3</td>\n",
       "      <td>922</td>\n",
       "      <td>86</td>\n",
       "      <td>7049</td>\n",
       "      <td>Apartment</td>\n",
       "      <td>Sarjapur Road</td>\n",
       "      <td>6500000</td>\n",
       "    </tr>\n",
       "    <tr>\n",
       "      <th>11</th>\n",
       "      <td>11</td>\n",
       "      <td>3</td>\n",
       "      <td>3</td>\n",
       "      <td>2280</td>\n",
       "      <td>212</td>\n",
       "      <td>9868</td>\n",
       "      <td>Apartment</td>\n",
       "      <td>3rd Phase JP Nagar</td>\n",
       "      <td>22500000</td>\n",
       "    </tr>\n",
       "    <tr>\n",
       "      <th>12</th>\n",
       "      <td>12</td>\n",
       "      <td>2</td>\n",
       "      <td>2</td>\n",
       "      <td>1200</td>\n",
       "      <td>111</td>\n",
       "      <td>6583</td>\n",
       "      <td>Apartment</td>\n",
       "      <td>Sahakara Nagar</td>\n",
       "      <td>7900000</td>\n",
       "    </tr>\n",
       "    <tr>\n",
       "      <th>13</th>\n",
       "      <td>13</td>\n",
       "      <td>3</td>\n",
       "      <td>3</td>\n",
       "      <td>2050</td>\n",
       "      <td>190</td>\n",
       "      <td>7804</td>\n",
       "      <td>Apartment</td>\n",
       "      <td>Thanisandra</td>\n",
       "      <td>16000000</td>\n",
       "    </tr>\n",
       "    <tr>\n",
       "      <th>14</th>\n",
       "      <td>14</td>\n",
       "      <td>2</td>\n",
       "      <td>2</td>\n",
       "      <td>1200</td>\n",
       "      <td>111</td>\n",
       "      <td>6000</td>\n",
       "      <td>Bedroom House</td>\n",
       "      <td>Bannerghatta Road</td>\n",
       "      <td>7200000</td>\n",
       "    </tr>\n",
       "    <tr>\n",
       "      <th>15</th>\n",
       "      <td>15</td>\n",
       "      <td>12</td>\n",
       "      <td>12</td>\n",
       "      <td>1200</td>\n",
       "      <td>111</td>\n",
       "      <td>20916</td>\n",
       "      <td>Bedroom House</td>\n",
       "      <td>Subbannaiah Palya</td>\n",
       "      <td>25099999</td>\n",
       "    </tr>\n",
       "    <tr>\n",
       "      <th>16</th>\n",
       "      <td>16</td>\n",
       "      <td>2</td>\n",
       "      <td>2</td>\n",
       "      <td>1483</td>\n",
       "      <td>138</td>\n",
       "      <td>10114</td>\n",
       "      <td>Bedroom House</td>\n",
       "      <td>Sarjapur Road</td>\n",
       "      <td>15000000</td>\n",
       "    </tr>\n",
       "    <tr>\n",
       "      <th>17</th>\n",
       "      <td>17</td>\n",
       "      <td>4</td>\n",
       "      <td>4</td>\n",
       "      <td>2600</td>\n",
       "      <td>242</td>\n",
       "      <td>8653</td>\n",
       "      <td>Bedroom House</td>\n",
       "      <td>Horamavu</td>\n",
       "      <td>22500000</td>\n",
       "    </tr>\n",
       "    <tr>\n",
       "      <th>18</th>\n",
       "      <td>18</td>\n",
       "      <td>0</td>\n",
       "      <td>0</td>\n",
       "      <td>3675</td>\n",
       "      <td>341</td>\n",
       "      <td>7020</td>\n",
       "      <td>Residential land / Plot</td>\n",
       "      <td>Kengeri</td>\n",
       "      <td>25800000</td>\n",
       "    </tr>\n",
       "    <tr>\n",
       "      <th>19</th>\n",
       "      <td>19</td>\n",
       "      <td>6</td>\n",
       "      <td>6</td>\n",
       "      <td>2400</td>\n",
       "      <td>223</td>\n",
       "      <td>6562</td>\n",
       "      <td>Bedroom House</td>\n",
       "      <td>Mico Layout</td>\n",
       "      <td>42000000</td>\n",
       "    </tr>\n",
       "    <tr>\n",
       "      <th>20</th>\n",
       "      <td>20</td>\n",
       "      <td>9</td>\n",
       "      <td>9</td>\n",
       "      <td>4000</td>\n",
       "      <td>372</td>\n",
       "      <td>5500</td>\n",
       "      <td>Bedroom House</td>\n",
       "      <td>OMBR Layout</td>\n",
       "      <td>22000000</td>\n",
       "    </tr>\n",
       "    <tr>\n",
       "      <th>21</th>\n",
       "      <td>21</td>\n",
       "      <td>2</td>\n",
       "      <td>2</td>\n",
       "      <td>1165</td>\n",
       "      <td>108</td>\n",
       "      <td>6008</td>\n",
       "      <td>Apartment</td>\n",
       "      <td>Jalahalli East</td>\n",
       "      <td>7000000</td>\n",
       "    </tr>\n",
       "    <tr>\n",
       "      <th>22</th>\n",
       "      <td>22</td>\n",
       "      <td>0</td>\n",
       "      <td>0</td>\n",
       "      <td>1200</td>\n",
       "      <td>111</td>\n",
       "      <td>6500</td>\n",
       "      <td>Residential land / Plot</td>\n",
       "      <td>Devanahalli</td>\n",
       "      <td>7800000</td>\n",
       "    </tr>\n",
       "    <tr>\n",
       "      <th>23</th>\n",
       "      <td>23</td>\n",
       "      <td>2</td>\n",
       "      <td>2</td>\n",
       "      <td>1205</td>\n",
       "      <td>112</td>\n",
       "      <td>7219</td>\n",
       "      <td>Apartment</td>\n",
       "      <td>Horamavu</td>\n",
       "      <td>8700000</td>\n",
       "    </tr>\n",
       "    <tr>\n",
       "      <th>24</th>\n",
       "      <td>24</td>\n",
       "      <td>3</td>\n",
       "      <td>3</td>\n",
       "      <td>1612</td>\n",
       "      <td>150</td>\n",
       "      <td>6856</td>\n",
       "      <td>Apartment</td>\n",
       "      <td>Budigere Cross</td>\n",
       "      <td>8200000</td>\n",
       "    </tr>\n",
       "  </tbody>\n",
       "</table>\n",
       "</div>"
      ],
      "text/plain": [
       "    Unnamed: 0  BHK  Baths  Total_Area_SqFt  BuiltUp_Area_Sqm  Price_per_SqFt  \\\n",
       "0            0    2      2              959                89            4171   \n",
       "1            1   11     11             1200               111           15000   \n",
       "2            2    3      3             2189               203           10507   \n",
       "3            3    2      2             1165               108            5579   \n",
       "4            4   11     11             1973               183            8750   \n",
       "5            5    5      5             3500               325           21428   \n",
       "6            6    3      3             2300               214           13043   \n",
       "7            7    2      2             1150               107            5391   \n",
       "8            8    5      5             3500               325            3429   \n",
       "9            9    2      2             1065                99            6568   \n",
       "10          10    3      3              922                86            7049   \n",
       "11          11    3      3             2280               212            9868   \n",
       "12          12    2      2             1200               111            6583   \n",
       "13          13    3      3             2050               190            7804   \n",
       "14          14    2      2             1200               111            6000   \n",
       "15          15   12     12             1200               111           20916   \n",
       "16          16    2      2             1483               138           10114   \n",
       "17          17    4      4             2600               242            8653   \n",
       "18          18    0      0             3675               341            7020   \n",
       "19          19    6      6             2400               223            6562   \n",
       "20          20    9      9             4000               372            5500   \n",
       "21          21    2      2             1165               108            6008   \n",
       "22          22    0      0             1200               111            6500   \n",
       "23          23    2      2             1205               112            7219   \n",
       "24          24    3      3             1612               150            6856   \n",
       "\n",
       "               Type_of_Land             Location     Price  \n",
       "0                 Apartment        Maruthi Nagar   4200000  \n",
       "1             Bedroom House   8th Phase JP Nagar  18000000  \n",
       "2                 Apartment       CV Raman Nagar  23000000  \n",
       "3                 Apartment       CV Raman Nagar   6500000  \n",
       "4             Bedroom House       Chikkalasandra  35000000  \n",
       "5             Bedroom House       Chandra Layout  75000000  \n",
       "6                 Apartment         Spencer Road  30000000  \n",
       "7                 Apartment       CV Raman Nagar   6200000  \n",
       "8             Bedroom House   Suragajakkanahalli  14000000  \n",
       "9                 Apartment  6th Block Jayanagar   6995000  \n",
       "10                Apartment        Sarjapur Road   6500000  \n",
       "11                Apartment   3rd Phase JP Nagar  22500000  \n",
       "12                Apartment       Sahakara Nagar   7900000  \n",
       "13                Apartment          Thanisandra  16000000  \n",
       "14            Bedroom House    Bannerghatta Road   7200000  \n",
       "15            Bedroom House    Subbannaiah Palya  25099999  \n",
       "16            Bedroom House        Sarjapur Road  15000000  \n",
       "17            Bedroom House             Horamavu  22500000  \n",
       "18  Residential land / Plot              Kengeri  25800000  \n",
       "19            Bedroom House          Mico Layout  42000000  \n",
       "20            Bedroom House          OMBR Layout  22000000  \n",
       "21                Apartment       Jalahalli East   7000000  \n",
       "22  Residential land / Plot          Devanahalli   7800000  \n",
       "23                Apartment             Horamavu   8700000  \n",
       "24                Apartment       Budigere Cross   8200000  "
      ]
     },
     "execution_count": 2,
     "metadata": {},
     "output_type": "execute_result"
    }
   ],
   "source": [
    "test = pd.read_csv('Buy_Data.csv')\n",
    "test.head(25)"
   ]
  },
  {
   "cell_type": "code",
   "execution_count": 3,
   "id": "8f15397e",
   "metadata": {},
   "outputs": [
    {
     "data": {
      "text/html": [
       "<div>\n",
       "<style scoped>\n",
       "    .dataframe tbody tr th:only-of-type {\n",
       "        vertical-align: middle;\n",
       "    }\n",
       "\n",
       "    .dataframe tbody tr th {\n",
       "        vertical-align: top;\n",
       "    }\n",
       "\n",
       "    .dataframe thead th {\n",
       "        text-align: right;\n",
       "    }\n",
       "</style>\n",
       "<table border=\"1\" class=\"dataframe\">\n",
       "  <thead>\n",
       "    <tr style=\"text-align: right;\">\n",
       "      <th></th>\n",
       "      <th>BHK</th>\n",
       "      <th>Baths</th>\n",
       "      <th>Total_Area_SqFt</th>\n",
       "      <th>BuiltUp_Area_Sqm</th>\n",
       "      <th>Price_per_SqFt</th>\n",
       "      <th>Type_of_Land</th>\n",
       "      <th>Location</th>\n",
       "      <th>Price</th>\n",
       "    </tr>\n",
       "  </thead>\n",
       "  <tbody>\n",
       "    <tr>\n",
       "      <th>0</th>\n",
       "      <td>2</td>\n",
       "      <td>2</td>\n",
       "      <td>959</td>\n",
       "      <td>89</td>\n",
       "      <td>4171</td>\n",
       "      <td>Apartment</td>\n",
       "      <td>Maruthi Nagar</td>\n",
       "      <td>4200000</td>\n",
       "    </tr>\n",
       "    <tr>\n",
       "      <th>1</th>\n",
       "      <td>11</td>\n",
       "      <td>11</td>\n",
       "      <td>1200</td>\n",
       "      <td>111</td>\n",
       "      <td>15000</td>\n",
       "      <td>Bedroom House</td>\n",
       "      <td>8th Phase JP Nagar</td>\n",
       "      <td>18000000</td>\n",
       "    </tr>\n",
       "    <tr>\n",
       "      <th>2</th>\n",
       "      <td>3</td>\n",
       "      <td>3</td>\n",
       "      <td>2189</td>\n",
       "      <td>203</td>\n",
       "      <td>10507</td>\n",
       "      <td>Apartment</td>\n",
       "      <td>CV Raman Nagar</td>\n",
       "      <td>23000000</td>\n",
       "    </tr>\n",
       "    <tr>\n",
       "      <th>3</th>\n",
       "      <td>2</td>\n",
       "      <td>2</td>\n",
       "      <td>1165</td>\n",
       "      <td>108</td>\n",
       "      <td>5579</td>\n",
       "      <td>Apartment</td>\n",
       "      <td>CV Raman Nagar</td>\n",
       "      <td>6500000</td>\n",
       "    </tr>\n",
       "    <tr>\n",
       "      <th>4</th>\n",
       "      <td>11</td>\n",
       "      <td>11</td>\n",
       "      <td>1973</td>\n",
       "      <td>183</td>\n",
       "      <td>8750</td>\n",
       "      <td>Bedroom House</td>\n",
       "      <td>Chikkalasandra</td>\n",
       "      <td>35000000</td>\n",
       "    </tr>\n",
       "  </tbody>\n",
       "</table>\n",
       "</div>"
      ],
      "text/plain": [
       "   BHK  Baths  Total_Area_SqFt  BuiltUp_Area_Sqm  Price_per_SqFt  \\\n",
       "0    2      2              959                89            4171   \n",
       "1   11     11             1200               111           15000   \n",
       "2    3      3             2189               203           10507   \n",
       "3    2      2             1165               108            5579   \n",
       "4   11     11             1973               183            8750   \n",
       "\n",
       "    Type_of_Land            Location     Price  \n",
       "0      Apartment       Maruthi Nagar   4200000  \n",
       "1  Bedroom House  8th Phase JP Nagar  18000000  \n",
       "2      Apartment      CV Raman Nagar  23000000  \n",
       "3      Apartment      CV Raman Nagar   6500000  \n",
       "4  Bedroom House      Chikkalasandra  35000000  "
      ]
     },
     "execution_count": 3,
     "metadata": {},
     "output_type": "execute_result"
    }
   ],
   "source": [
    "test = test.drop(\"Unnamed: 0\",axis=1)\n",
    "test.head()"
   ]
  },
  {
   "cell_type": "markdown",
   "id": "96eca332",
   "metadata": {},
   "source": [
    "##### Checking for null values"
   ]
  },
  {
   "cell_type": "code",
   "execution_count": 4,
   "id": "9729ed60",
   "metadata": {},
   "outputs": [
    {
     "name": "stdout",
     "output_type": "stream",
     "text": [
      "<class 'pandas.core.frame.DataFrame'>\n",
      "RangeIndex: 2523 entries, 0 to 2522\n",
      "Data columns (total 8 columns):\n",
      " #   Column            Non-Null Count  Dtype \n",
      "---  ------            --------------  ----- \n",
      " 0   BHK               2523 non-null   int64 \n",
      " 1   Baths             2523 non-null   int64 \n",
      " 2   Total_Area_SqFt   2523 non-null   int64 \n",
      " 3   BuiltUp_Area_Sqm  2523 non-null   int64 \n",
      " 4   Price_per_SqFt    2523 non-null   int64 \n",
      " 5   Type_of_Land      2523 non-null   object\n",
      " 6   Location          2523 non-null   object\n",
      " 7   Price             2523 non-null   int64 \n",
      "dtypes: int64(6), object(2)\n",
      "memory usage: 157.8+ KB\n"
     ]
    }
   ],
   "source": [
    "test.info()"
   ]
  },
  {
   "cell_type": "code",
   "execution_count": 5,
   "id": "e17daa21",
   "metadata": {},
   "outputs": [
    {
     "data": {
      "text/html": [
       "<div>\n",
       "<style scoped>\n",
       "    .dataframe tbody tr th:only-of-type {\n",
       "        vertical-align: middle;\n",
       "    }\n",
       "\n",
       "    .dataframe tbody tr th {\n",
       "        vertical-align: top;\n",
       "    }\n",
       "\n",
       "    .dataframe thead th {\n",
       "        text-align: right;\n",
       "    }\n",
       "</style>\n",
       "<table border=\"1\" class=\"dataframe\">\n",
       "  <thead>\n",
       "    <tr style=\"text-align: right;\">\n",
       "      <th></th>\n",
       "      <th>BHK</th>\n",
       "      <th>Baths</th>\n",
       "      <th>Total_Area_SqFt</th>\n",
       "      <th>BuiltUp_Area_Sqm</th>\n",
       "      <th>Price_per_SqFt</th>\n",
       "      <th>Price</th>\n",
       "    </tr>\n",
       "  </thead>\n",
       "  <tbody>\n",
       "    <tr>\n",
       "      <th>count</th>\n",
       "      <td>2523.000000</td>\n",
       "      <td>2523.000000</td>\n",
       "      <td>2.523000e+03</td>\n",
       "      <td>2523.000000</td>\n",
       "      <td>2.523000e+03</td>\n",
       "      <td>2.523000e+03</td>\n",
       "    </tr>\n",
       "    <tr>\n",
       "      <th>mean</th>\n",
       "      <td>2.246532</td>\n",
       "      <td>2.178755</td>\n",
       "      <td>7.834782e+03</td>\n",
       "      <td>727.806579</td>\n",
       "      <td>1.208227e+04</td>\n",
       "      <td>1.146521e+07</td>\n",
       "    </tr>\n",
       "    <tr>\n",
       "      <th>std</th>\n",
       "      <td>2.117921</td>\n",
       "      <td>2.089434</td>\n",
       "      <td>1.636484e+05</td>\n",
       "      <td>15203.442193</td>\n",
       "      <td>1.998572e+05</td>\n",
       "      <td>1.112083e+07</td>\n",
       "    </tr>\n",
       "    <tr>\n",
       "      <th>min</th>\n",
       "      <td>0.000000</td>\n",
       "      <td>0.000000</td>\n",
       "      <td>3.000000e+00</td>\n",
       "      <td>0.000000</td>\n",
       "      <td>1.000000e+00</td>\n",
       "      <td>3.500000e+04</td>\n",
       "    </tr>\n",
       "    <tr>\n",
       "      <th>25%</th>\n",
       "      <td>1.000000</td>\n",
       "      <td>1.000000</td>\n",
       "      <td>1.089500e+03</td>\n",
       "      <td>101.000000</td>\n",
       "      <td>4.418000e+03</td>\n",
       "      <td>5.250000e+06</td>\n",
       "    </tr>\n",
       "    <tr>\n",
       "      <th>50%</th>\n",
       "      <td>2.000000</td>\n",
       "      <td>2.000000</td>\n",
       "      <td>1.245000e+03</td>\n",
       "      <td>116.000000</td>\n",
       "      <td>5.914000e+03</td>\n",
       "      <td>7.800000e+06</td>\n",
       "    </tr>\n",
       "    <tr>\n",
       "      <th>75%</th>\n",
       "      <td>3.000000</td>\n",
       "      <td>3.000000</td>\n",
       "      <td>1.710000e+03</td>\n",
       "      <td>159.000000</td>\n",
       "      <td>8.490000e+03</td>\n",
       "      <td>1.300000e+07</td>\n",
       "    </tr>\n",
       "    <tr>\n",
       "      <th>max</th>\n",
       "      <td>32.000000</td>\n",
       "      <td>32.000000</td>\n",
       "      <td>7.623000e+06</td>\n",
       "      <td>708200.000000</td>\n",
       "      <td>1.000000e+07</td>\n",
       "      <td>9.500000e+07</td>\n",
       "    </tr>\n",
       "  </tbody>\n",
       "</table>\n",
       "</div>"
      ],
      "text/plain": [
       "               BHK        Baths  Total_Area_SqFt  BuiltUp_Area_Sqm  \\\n",
       "count  2523.000000  2523.000000     2.523000e+03       2523.000000   \n",
       "mean      2.246532     2.178755     7.834782e+03        727.806579   \n",
       "std       2.117921     2.089434     1.636484e+05      15203.442193   \n",
       "min       0.000000     0.000000     3.000000e+00          0.000000   \n",
       "25%       1.000000     1.000000     1.089500e+03        101.000000   \n",
       "50%       2.000000     2.000000     1.245000e+03        116.000000   \n",
       "75%       3.000000     3.000000     1.710000e+03        159.000000   \n",
       "max      32.000000    32.000000     7.623000e+06     708200.000000   \n",
       "\n",
       "       Price_per_SqFt         Price  \n",
       "count    2.523000e+03  2.523000e+03  \n",
       "mean     1.208227e+04  1.146521e+07  \n",
       "std      1.998572e+05  1.112083e+07  \n",
       "min      1.000000e+00  3.500000e+04  \n",
       "25%      4.418000e+03  5.250000e+06  \n",
       "50%      5.914000e+03  7.800000e+06  \n",
       "75%      8.490000e+03  1.300000e+07  \n",
       "max      1.000000e+07  9.500000e+07  "
      ]
     },
     "execution_count": 5,
     "metadata": {},
     "output_type": "execute_result"
    }
   ],
   "source": [
    "test.describe()"
   ]
  },
  {
   "cell_type": "code",
   "execution_count": 6,
   "id": "366c9a4d",
   "metadata": {},
   "outputs": [
    {
     "data": {
      "text/plain": [
       "BHK                 0\n",
       "Baths               0\n",
       "Total_Area_SqFt     0\n",
       "BuiltUp_Area_Sqm    0\n",
       "Price_per_SqFt      0\n",
       "Type_of_Land        0\n",
       "Location            0\n",
       "Price               0\n",
       "dtype: int64"
      ]
     },
     "execution_count": 6,
     "metadata": {},
     "output_type": "execute_result"
    }
   ],
   "source": [
    "test.isna().sum()"
   ]
  },
  {
   "cell_type": "code",
   "execution_count": 7,
   "id": "d0173e15",
   "metadata": {},
   "outputs": [
    {
     "data": {
      "text/plain": [
       "(2523, 8)"
      ]
     },
     "execution_count": 7,
     "metadata": {},
     "output_type": "execute_result"
    }
   ],
   "source": [
    "test.shape"
   ]
  },
  {
   "cell_type": "markdown",
   "id": "e3aafb77",
   "metadata": {},
   "source": [
    "##### Checking for duplicates and removing them"
   ]
  },
  {
   "cell_type": "code",
   "execution_count": 8,
   "id": "a0a696e2",
   "metadata": {},
   "outputs": [
    {
     "data": {
      "text/plain": [
       "0"
      ]
     },
     "execution_count": 8,
     "metadata": {},
     "output_type": "execute_result"
    }
   ],
   "source": [
    "sum(test.duplicated())"
   ]
  },
  {
   "cell_type": "code",
   "execution_count": 9,
   "id": "9bae56e7",
   "metadata": {},
   "outputs": [
    {
     "data": {
      "text/html": [
       "<div>\n",
       "<style scoped>\n",
       "    .dataframe tbody tr th:only-of-type {\n",
       "        vertical-align: middle;\n",
       "    }\n",
       "\n",
       "    .dataframe tbody tr th {\n",
       "        vertical-align: top;\n",
       "    }\n",
       "\n",
       "    .dataframe thead th {\n",
       "        text-align: right;\n",
       "    }\n",
       "</style>\n",
       "<table border=\"1\" class=\"dataframe\">\n",
       "  <thead>\n",
       "    <tr style=\"text-align: right;\">\n",
       "      <th></th>\n",
       "      <th>BHK</th>\n",
       "      <th>Baths</th>\n",
       "      <th>Total_Area_SqFt</th>\n",
       "      <th>BuiltUp_Area_Sqm</th>\n",
       "      <th>Price_per_SqFt</th>\n",
       "      <th>Type_of_Land</th>\n",
       "      <th>Location</th>\n",
       "      <th>Price</th>\n",
       "    </tr>\n",
       "  </thead>\n",
       "  <tbody>\n",
       "  </tbody>\n",
       "</table>\n",
       "</div>"
      ],
      "text/plain": [
       "Empty DataFrame\n",
       "Columns: [BHK, Baths, Total_Area_SqFt, BuiltUp_Area_Sqm, Price_per_SqFt, Type_of_Land, Location, Price]\n",
       "Index: []"
      ]
     },
     "execution_count": 9,
     "metadata": {},
     "output_type": "execute_result"
    }
   ],
   "source": [
    "test[test.duplicated(keep = False)]"
   ]
  },
  {
   "cell_type": "code",
   "execution_count": 10,
   "id": "1d90fa99",
   "metadata": {},
   "outputs": [],
   "source": [
    "test = test.drop_duplicates()"
   ]
  },
  {
   "cell_type": "code",
   "execution_count": 11,
   "id": "028178c2",
   "metadata": {},
   "outputs": [
    {
     "data": {
      "text/plain": [
       "(2523, 8)"
      ]
     },
     "execution_count": 11,
     "metadata": {},
     "output_type": "execute_result"
    }
   ],
   "source": [
    "test.shape"
   ]
  },
  {
   "cell_type": "markdown",
   "id": "6d61559c",
   "metadata": {},
   "source": [
    "##### Converting the categorical columns to numberic"
   ]
  },
  {
   "cell_type": "code",
   "execution_count": 12,
   "id": "950cf941",
   "metadata": {},
   "outputs": [],
   "source": [
    "from sklearn.preprocessing import LabelEncoder\n",
    "for column in test.columns:\n",
    "    le = LabelEncoder()\n",
    "    test[column] = le.fit_transform(test[column])"
   ]
  },
  {
   "cell_type": "markdown",
   "id": "05898da7",
   "metadata": {},
   "source": [
    "##### Correlation"
   ]
  },
  {
   "cell_type": "code",
   "execution_count": 13,
   "id": "8d9338bf",
   "metadata": {},
   "outputs": [],
   "source": [
    "def plot_correlation_map( df ):\n",
    "    corr = df.corr()\n",
    "    _ , ax = plt.subplots( figsize =( 12 , 10 ) )\n",
    "    cmap = sns.diverging_palette( 240 , 10 , as_cmap = True )\n",
    "    _ = sns.heatmap(corr,cmap = cmap,square=True, cbar_kws={ 'shrink' : .9 }, ax=ax, annot = True, annot_kws = { 'fontsize' : 12 })"
   ]
  },
  {
   "cell_type": "code",
   "execution_count": 14,
   "id": "89b5596a",
   "metadata": {},
   "outputs": [
    {
     "data": {
      "image/png": "[encoded data removed]",
      "text/plain": [
       "<Figure size 1200x1000 with 2 Axes>"
      ]
     },
     "metadata": {},
     "output_type": "display_data"
    }
   ],
   "source": [
    "plot_correlation_map(test)"
   ]
  },
  {
   "cell_type": "markdown",
   "id": "b22d437b",
   "metadata": {},
   "source": [
    "##### Dividing the data into dependent and independent variables and splitting them into test and train data"
   ]
  },
  {
   "cell_type": "code",
   "execution_count": 15,
   "id": "f5b81c51",
   "metadata": {},
   "outputs": [],
   "source": [
    "x=test.iloc[:,0:7]\n",
    "y=test.iloc[:,7]"
   ]
  },
  {
   "cell_type": "code",
   "execution_count": 16,
   "id": "cef87747",
   "metadata": {},
   "outputs": [],
   "source": [
    "from sklearn.model_selection import train_test_split\n",
    "x_train,x_test,y_train,y_test=train_test_split(x,y,test_size=0.30, random_state=42)"
   ]
  },
  {
   "cell_type": "code",
   "execution_count": 17,
   "id": "86204ea9",
   "metadata": {},
   "outputs": [],
   "source": [
    "def norm_func(i):\n",
    "    x = (i-i.min())/(i.max()-i.min())\n",
    "    return (x)"
   ]
  },
  {
   "cell_type": "code",
   "execution_count": 18,
   "id": "4c735164",
   "metadata": {},
   "outputs": [],
   "source": [
    "x_train = norm_func(x_train)\n",
    "x_test =  norm_func(x_test)"
   ]
  },
  {
   "cell_type": "code",
   "execution_count": 19,
   "id": "bbf843a9",
   "metadata": {},
   "outputs": [
    {
     "data": {
      "text/plain": [
       "((1766, 7), (757, 7), (1766,), (757,))"
      ]
     },
     "execution_count": 19,
     "metadata": {},
     "output_type": "execute_result"
    }
   ],
   "source": [
    "x_train.shape, x_test.shape, y_train.shape, y_test.shape"
   ]
  },
  {
   "cell_type": "markdown",
   "id": "e78deed2",
   "metadata": {},
   "source": [
    "##### GridSearchCV"
   ]
  },
  {
   "cell_type": "markdown",
   "id": "412b8193",
   "metadata": {},
   "source": [
    "##### Constructing a SVM model with Kernel 'linear'  and running it on the grid search to identify the best values"
   ]
  },
  {
   "cell_type": "code",
   "execution_count": 20,
   "id": "84741087",
   "metadata": {},
   "outputs": [
    {
     "name": "stdout",
     "output_type": "stream",
     "text": [
      "Accuracy: 0.05019815059445178\n"
     ]
    }
   ],
   "source": [
    "model_linear = SVC(kernel = \"linear\")\n",
    "model_linear.fit(x_train,y_train)\n",
    "pred_test_linear = model_linear.predict(x_test)\n",
    "print(\"Accuracy:\",metrics.accuracy_score(y_test, pred_test_linear))"
   ]
  },
  {
   "cell_type": "markdown",
   "id": "25d31910",
   "metadata": {},
   "source": [
    "##### Constructing a SVM model with Kernel 'poly'  and running it on the grid search to identify the best values"
   ]
  },
  {
   "cell_type": "code",
   "execution_count": 21,
   "id": "26c20c8e",
   "metadata": {},
   "outputs": [
    {
     "name": "stdout",
     "output_type": "stream",
     "text": [
      "Accuracy: 0.15191545574636725\n"
     ]
    }
   ],
   "source": [
    "model_poly = SVC(kernel = \"poly\")\n",
    "model_poly.fit(x_train,y_train)\n",
    "pred_test_poly = model_poly.predict(x_test)\n",
    "print(\"Accuracy:\",metrics.accuracy_score(y_test, pred_test_poly))"
   ]
  },
  {
   "cell_type": "markdown",
   "id": "33cd5f37",
   "metadata": {},
   "source": [
    "##### Constructing a SVM model with Kernel 'rbf'  and running it on the grid search to identify the best values"
   ]
  },
  {
   "cell_type": "code",
   "execution_count": 22,
   "id": "ac0f555f",
   "metadata": {},
   "outputs": [
    {
     "name": "stdout",
     "output_type": "stream",
     "text": [
      "Accuracy: 0.0726552179656539\n"
     ]
    }
   ],
   "source": [
    "model_rbf = SVC(kernel = \"rbf\")\n",
    "model_rbf.fit(x_train,y_train)\n",
    "pred_test_rbf = model_rbf.predict(x_test)\n",
    "print(\"Accuracy:\",metrics.accuracy_score(y_test, pred_test_rbf))"
   ]
  },
  {
   "cell_type": "markdown",
   "id": "23c38b19",
   "metadata": {},
   "source": [
    "##### Constructing a SVM model with Kernel 'sigmoid'  and running it on the grid search to identify the best values"
   ]
  },
  {
   "cell_type": "code",
   "execution_count": 23,
   "id": "fac6f69c",
   "metadata": {},
   "outputs": [
    {
     "name": "stdout",
     "output_type": "stream",
     "text": [
      "Accuracy: 0.021136063408190225\n"
     ]
    }
   ],
   "source": [
    "model_sigmoid = SVC(kernel = \"sigmoid\")\n",
    "model_sigmoid.fit(x_train,y_train)\n",
    "pred_test_sigmoid = model_sigmoid.predict(x_test)\n",
    "print(\"Accuracy:\",metrics.accuracy_score(y_test, pred_test_sigmoid))"
   ]
  },
  {
   "cell_type": "markdown",
   "id": "b47830db",
   "metadata": {},
   "source": [
    "##### Conclusion\n",
    "\n",
    "- It is evident that the rbf Kernel in SVM, gives better result in classifying the data, when compared to others.\n",
    "- Thus, a rbf kernal in SVM can be used to classify the salary data."
   ]
  }
 ],
 "metadata": {
  "kernelspec": {
   "display_name": "Python 3 (ipykernel)",
   "language": "python",
   "name": "python3"
  },
  "language_info": {
   "codemirror_mode": {
    "name": "ipython",
    "version": 3
   },
   "file_extension": ".py",
   "mimetype": "text/x-python",
   "name": "python",
   "nbconvert_exporter": "python",
   "pygments_lexer": "ipython3",
   "version": "3.9.13"
  }
 },
 "nbformat": 4,
 "nbformat_minor": 5
}
